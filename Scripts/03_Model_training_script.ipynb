{
 "cells": [
  {
   "cell_type": "markdown",
   "id": "136b37ea",
   "metadata": {},
   "source": [
    "# Load libraries"
   ]
  },
  {
   "cell_type": "code",
   "execution_count": 1,
   "id": "8e7ca0b6",
   "metadata": {},
   "outputs": [],
   "source": [
    "import os\n",
    "import re\n",
    "import pandas as pd\n",
    "import numpy as np\n",
    "from tqdm import tqdm\n",
    "from PIL import Image\n",
    "from pathlib import Path\n",
    "from spectral import envi, imshow\n",
    "\n",
    "import seaborn as sns\n",
    "import matplotlib.pyplot as plt\n",
    "from matplotlib import colors\n",
    "import webcolors\n",
    "\n",
    "%matplotlib inline\n",
    "sns.set(font_scale=1.2) #for label size\n",
    "\n",
    "from sklearn.model_selection import train_test_split \n",
    "from sklearn.ensemble import RandomForestClassifier\n",
    "from sklearn.metrics import classification_report, confusion_matrix, accuracy_score\n",
    "import pickle"
   ]
  },
  {
   "cell_type": "markdown",
   "id": "79f76179",
   "metadata": {},
   "source": [
    "## Load data"
   ]
  },
  {
   "cell_type": "markdown",
   "id": "a44a6eb5",
   "metadata": {},
   "source": [
    "Insert name of folder containing data_files and scripts here"
   ]
  },
  {
   "cell_type": "code",
   "execution_count": 39,
   "id": "8356c840",
   "metadata": {},
   "outputs": [],
   "source": [
    "folder = ''"
   ]
  },
  {
   "cell_type": "code",
   "execution_count": 3,
   "id": "b8d870af",
   "metadata": {},
   "outputs": [],
   "source": [
    "data_path = Path(folder)\n",
    "\n",
    "data_files = 'Data_files'\n",
    "data_files_path = data_path / data_files\n",
    "\n",
    "KMeans_data_folder = 'Data_classification_results/KMeans data'\n",
    "KMeans_data_path = data_path / KMeans_data_folder"
   ]
  },
  {
   "cell_type": "markdown",
   "id": "9164dc5e",
   "metadata": {},
   "source": [
    "### Set results path"
   ]
  },
  {
   "cell_type": "code",
   "execution_count": 4,
   "id": "d04c78ce",
   "metadata": {},
   "outputs": [],
   "source": [
    "results_folder = 'Data_classification_results/Model creation'\n",
    "results_path = data_path / results_folder\n",
    "results_path.mkdir(parents=True, exist_ok = True)\n",
    "os.chdir(results_path)"
   ]
  },
  {
   "cell_type": "markdown",
   "id": "3ce137c1",
   "metadata": {},
   "source": [
    "### Processing functions"
   ]
  },
  {
   "cell_type": "code",
   "execution_count": 5,
   "id": "61834328",
   "metadata": {},
   "outputs": [],
   "source": [
    "def process_hdr_files(data_path):\n",
    "    data = {}\n",
    "    \n",
    "    hdr_files = [x for x in data_path.iterdir() if x.suffix == '.hdr' and x.stem.endswith('_processed')]\n",
    "    \n",
    "    for hdr_file in tqdm(hdr_files):\n",
    "        name = \" \".join(re.findall('(.*?)\\_processed', hdr_file.stem))\n",
    "\n",
    "        try:\n",
    "            X = envi.open(hdr_file.as_posix()).load()\n",
    "            cleaned_X = np.where(X > 1, 0, X.copy()) # Create a modified copy of the array to change over-exposed pixels to 0\n",
    "            \n",
    "            # This loses the metadata from the image, so if it is needed it will need to be called on\n",
    "            #cleaned_data_dict = {'data': cleaned_X_data, 'metadata': X.metadata.copy()}\n",
    "            #data[name] = cleaned_data_dict\n",
    "            \n",
    "            data[name] = cleaned_X\n",
    "            \n",
    "        except Exception as e:\n",
    "            print(f\"Error while loading data from '{hdr_file}': {e}\")\n",
    "            \n",
    "    return data\n",
    "\n",
    "\n",
    "def import_SAM_class_img(data_path):\n",
    "    SAM_imgs = {}\n",
    "    \n",
    "    SAM_img_files = [x for x in data_path.iterdir() if x.suffix == '.png' and x.stem.endswith('_class_image')]\n",
    "    \n",
    "    for img_file in tqdm(SAM_img_files):\n",
    "        name = \" \".join(re.findall('(.*?)\\_class_image', img_file.stem))\n",
    "        \n",
    "        try:\n",
    "            Y = Image.open(img_file)\n",
    "            \n",
    "            SAM_imgs[name] = Y\n",
    "            \n",
    "        except FileNotFoundError as e:\n",
    "            print(f\"Error: File '{img_file}' not found: {e}\")\n",
    "        except OSError as e:\n",
    "            print(f\"Error while opening image '{img_file}': {e}\")\n",
    "            \n",
    "    return SAM_imgs\n",
    "\n",
    "def import_kmeans_gt(data_path):\n",
    "    kmeans_data = {}\n",
    "    \n",
    "    kmeans_files = [x for x in data_path.iterdir() if x.suffix == '.csv' and x.stem.startswith('kmeans_img')]\n",
    "    \n",
    "    for img_file in tqdm(kmeans_files):\n",
    "        name = \" \".join(re.findall('kmeans_img_(.*)', img_file.stem))\n",
    "        \n",
    "        try:\n",
    "            Q = pd.read_csv(img_file, index_col = 0)\n",
    "            Q = Q.values.astype('uint8')\n",
    "            \n",
    "            kmeans_data[name] = Q\n",
    "        \n",
    "        except FileNotFoundError as e:\n",
    "            print(f\"Error: File '{img_file}' not found: {e}\")\n",
    "            \n",
    "    return kmeans_data"
   ]
  },
  {
   "cell_type": "markdown",
   "id": "07c7225c",
   "metadata": {},
   "source": [
    "### Process data"
   ]
  },
  {
   "cell_type": "code",
   "execution_count": 6,
   "id": "628b2d8e",
   "metadata": {},
   "outputs": [
    {
     "name": "stderr",
     "output_type": "stream",
     "text": [
      "100%|██████████| 2/2 [00:07<00:00,  3.99s/it]\n",
      "100%|██████████| 2/2 [00:00<00:00, 90.43it/s]\n",
      "100%|██████████| 2/2 [00:00<00:00,  4.91it/s]\n"
     ]
    }
   ],
   "source": [
    "# Call the function to process the '.hdr' files and populate the data dictionary\n",
    "data = process_hdr_files(data_files_path)            \n",
    "SAM_imgs = import_SAM_class_img(data_files_path)\n",
    "kmeans_data = import_kmeans_gt(KMeans_data_path)"
   ]
  },
  {
   "cell_type": "markdown",
   "id": "0bbda4a1",
   "metadata": {},
   "source": [
    "### Load one file for metadata and wavelengths"
   ]
  },
  {
   "cell_type": "code",
   "execution_count": 7,
   "id": "010e4819",
   "metadata": {},
   "outputs": [],
   "source": [
    "def get_wl(data_path):\n",
    "    \n",
    "    hdr_files = [x for x in data_files_path.iterdir() if x.suffix == '.hdr' and x.stem.endswith('_processed')]\n",
    "\n",
    "    for file in hdr_files:\n",
    "        data_file = envi.open(file.as_posix()).load()\n",
    "        break\n",
    "    \n",
    "    wl_list = np.array(data_file.metadata['wavelength'])\n",
    "    wl = np.array([float(wavelength) for wavelength in wl_list])\n",
    "    del data_file\n",
    "    \n",
    "    return wl"
   ]
  },
  {
   "cell_type": "code",
   "execution_count": 8,
   "id": "5bdc0b78",
   "metadata": {},
   "outputs": [],
   "source": [
    "wl = get_wl(data_files_path)"
   ]
  },
  {
   "cell_type": "code",
   "execution_count": 9,
   "id": "a7d8d866",
   "metadata": {},
   "outputs": [
    {
     "name": "stdout",
     "output_type": "stream",
     "text": [
      "[470.        472.885906  475.7718121 478.6577181 481.5436242 484.4295302\n",
      " 487.3154362 490.2013423 493.0872483 495.9731544 498.8590604 501.7449664\n",
      " 504.6308725 507.5167785 510.4026846 513.2885906 516.1744966 519.0604027\n",
      " 521.9463087 524.8322148 527.7181208 530.6040268 533.4899329 536.3758389\n",
      " 539.261745  542.147651  545.033557  547.9194631 550.8053691 553.6912752\n",
      " 556.5771812 559.4630872 562.3489933 565.2348993 568.1208054 571.0067114\n",
      " 573.8926174 576.7785235 579.6644295 582.5503356 585.4362416 588.3221477\n",
      " 591.2080537 594.0939597 596.9798658 599.8657718 602.7516779 605.6375839\n",
      " 608.5234899 611.409396  614.295302  617.1812081 620.0671141 622.9530201\n",
      " 625.8389262 628.7248322 631.6107383 634.4966443 637.3825503 640.2684564\n",
      " 643.1543624 646.0402685 648.9261745 651.8120805 654.6979866 657.5838926\n",
      " 660.4697987 663.3557047 666.2416107 669.1275168 672.0134228 674.8993289\n",
      " 677.7852349 680.6711409 683.557047  686.442953  689.3288591 692.2147651\n",
      " 695.1006711 697.9865772 700.8724832 703.7583893 706.6442953 709.5302013\n",
      " 712.4161074 715.3020134 718.1879195 721.0738255 723.9597315 726.8456376\n",
      " 729.7315436 732.6174497 735.5033557 738.3892617 741.2751678 744.1610738\n",
      " 747.0469799 749.9328859 752.8187919 755.704698  758.590604  761.4765101\n",
      " 764.3624161 767.2483221 770.1342282 773.0201342 775.9060403 778.7919463\n",
      " 781.6778523 784.5637584 787.4496644 790.3355705 793.2214765 796.1073826\n",
      " 798.9932886 801.8791946 804.7651007 807.6510067 810.5369128 813.4228188\n",
      " 816.3087248 819.1946309 822.0805369 824.966443  827.852349  830.738255\n",
      " 833.6241611 836.5100671 839.3959732 842.2818792 845.1677852 848.0536913\n",
      " 850.9395973 853.8255034 856.7114094 859.5973154 862.4832215 865.3691275\n",
      " 868.2550336 871.1409396 874.0268456 876.9127517 879.7986577 882.6845638\n",
      " 885.5704698 888.4563758 891.3422819 894.2281879 897.114094  900.       ]\n"
     ]
    }
   ],
   "source": [
    "print(wl)"
   ]
  },
  {
   "cell_type": "markdown",
   "id": "f4a718a0",
   "metadata": {},
   "source": [
    "## Load selected bands"
   ]
  },
  {
   "cell_type": "code",
   "execution_count": 10,
   "id": "9ed46ca1",
   "metadata": {},
   "outputs": [],
   "source": [
    "bands_folder = 'Data_classification_results/Data pre-treatment'\n",
    "bands_path = data_path / bands_folder\n",
    "\n",
    "band_files = [x for x in bands_path.iterdir() if x.suffix == '.csv' and x.stem.endswith('bands')]\n",
    "\n",
    "for file in band_files:\n",
    "    if file.stem.startswith('SAM'):\n",
    "        SAM_selected_bands = np.array(pd.read_csv(file)).ravel()\n",
    "    if file.stem.startswith('kmeans'):\n",
    "        kmeans_selected_bands = np.array(pd.read_csv(file)).ravel()"
   ]
  },
  {
   "cell_type": "code",
   "execution_count": 11,
   "id": "95b7ac25",
   "metadata": {},
   "outputs": [
    {
     "name": "stdout",
     "output_type": "stream",
     "text": [
      "['band5' 'band7' 'band10' 'band16' 'band19' 'band24' 'band28' 'band32'\n",
      " 'band36' 'band39' 'band44' 'band47' 'band51' 'band55' 'band59' 'band64'\n",
      " 'band69' 'band75' 'band79' 'band85' 'band90' 'band95' 'band102' 'band108'\n",
      " 'band116' 'band122' 'band128' 'band134' 'band140']\n",
      "['band4' 'band16' 'band19' 'band25' 'band28' 'band32' 'band36' 'band39'\n",
      " 'band47' 'band51' 'band55' 'band60' 'band65' 'band70' 'band75' 'band79'\n",
      " 'band84' 'band95' 'band101' 'band107' 'band116' 'band123' 'band128'\n",
      " 'band134' 'band140']\n"
     ]
    }
   ],
   "source": [
    "print(SAM_selected_bands)\n",
    "print(kmeans_selected_bands)"
   ]
  },
  {
   "cell_type": "markdown",
   "id": "23e6d3e2",
   "metadata": {},
   "source": [
    "## Select datacubes for training model"
   ]
  },
  {
   "cell_type": "code",
   "execution_count": 12,
   "id": "2f3db509",
   "metadata": {},
   "outputs": [
    {
     "name": "stdout",
     "output_type": "stream",
     "text": [
      "dict_keys(['A2', 'D2'])\n",
      "dict_keys(['A2', 'D2'])\n",
      "dict_keys(['A2', 'D2'])\n"
     ]
    }
   ],
   "source": [
    "print(data.keys())\n",
    "print(SAM_imgs.keys())\n",
    "print(kmeans_data.keys())"
   ]
  },
  {
   "cell_type": "code",
   "execution_count": 14,
   "id": "0853c4bb",
   "metadata": {},
   "outputs": [
    {
     "data": {
      "text/plain": [
       "(1528, 2048, 150)"
      ]
     },
     "execution_count": 14,
     "metadata": {},
     "output_type": "execute_result"
    }
   ],
   "source": [
    "data['A2'].shape"
   ]
  },
  {
   "cell_type": "markdown",
   "id": "61be09c5",
   "metadata": {},
   "source": [
    "## Functions"
   ]
  },
  {
   "cell_type": "code",
   "execution_count": 15,
   "id": "e3614cd7",
   "metadata": {},
   "outputs": [],
   "source": [
    "def show_roi(arr, x, y, length):\n",
    "\n",
    "    plt.style.use('classic')\n",
    "    \n",
    "    bounding_box = arr\n",
    "    bounding_box[y-4:y, x-4:x+length+4, :] = 2 # top line\n",
    "    bounding_box[y:y+length, x-4:x, :] = 2 # left line\n",
    "    bounding_box[y+length:y+length+4, x-4:x+length+4, :] = 2 # bottom line\n",
    "    bounding_box[y:y+length, x+length:x+length+4, :] = 2 # right line\n",
    "\n",
    "    return (bounding_box)"
   ]
  },
  {
   "cell_type": "code",
   "execution_count": 16,
   "id": "9d896b92",
   "metadata": {},
   "outputs": [],
   "source": [
    "def extract_gt_pixels(y, shape1, shape2):\n",
    "    \n",
    "    def get_colour_name(rgb_triplet):\n",
    "        min_colours = {}\n",
    "        for key, name in webcolors.CSS3_HEX_TO_NAMES.items():\n",
    "            r_c, g_c, b_c = webcolors.hex_to_rgb(key)\n",
    "            rd = (r_c - rgb_triplet[0]) ** 2\n",
    "            gd = (g_c - rgb_triplet[1]) ** 2\n",
    "            bd = (b_c - rgb_triplet[2]) ** 2\n",
    "            min_colours[(rd + gd + bd)] = name\n",
    "        return min_colours[min(min_colours.keys())]\n",
    "    \n",
    "    y_data = list(y.getdata())\n",
    "    color_dict = {}\n",
    "    for x in set(y_data):\n",
    "         color_dict[x] = get_colour_name(x)\n",
    "\n",
    "    color_dict[(0, 0, 0, 0)] =  'white'  \n",
    "    class_dict = {'white' : '0', 'black' : '1', 'mediumvioletred' : '2', 'gold' : '3'}\n",
    "            # white - unlabelled, black - soil, magenta - mixed, yellow - root\n",
    "\n",
    "    color_pixels = [color_dict[k] for k in y_data]\n",
    "    \n",
    "    pixel_labels = np.array([class_dict.get(k, 0) for k in color_pixels])\n",
    "    \n",
    "    gt = pixel_labels.reshape((shape1, shape2)).astype('uint8')\n",
    "    \n",
    "    return gt"
   ]
  },
  {
   "cell_type": "code",
   "execution_count": 17,
   "id": "be2d2068",
   "metadata": {},
   "outputs": [],
   "source": [
    "def get_dict_name(some_dict):\n",
    "    dict_name = [name for name, obj in globals().items() if obj is some_dict]\n",
    "    return dict_name[0]"
   ]
  },
  {
   "cell_type": "code",
   "execution_count": 18,
   "id": "c743181e",
   "metadata": {},
   "outputs": [],
   "source": [
    "def crop_hypercube_SAM_labels(df_dict, img_dict, data_name, bands, x, y, length):\n",
    "\n",
    "    plt.style.use('classic')\n",
    "    \n",
    "    # Crop original hypercube\n",
    "    df_cropped = df_dict[data_name][y:y+length, x:x+length, :]\n",
    "    \n",
    "    \n",
    "    imshow(df_cropped, bands = (68, 40, 24), stretch = 0.01)\n",
    "    plt.savefig(data_name + '_cropped.png', dpi = 300, bbox_inches = 'tight')\n",
    "    plt.close()\n",
    "    \n",
    "    # Hypercube dataframe\n",
    "    df_cropped = pd.DataFrame(df_cropped.reshape(df_cropped.shape[0]*df_cropped.shape[1], -1))\n",
    "    df_cropped.columns = [f'band{i}' for i in range(1, df_cropped.shape[-1]+1)]\n",
    "    \n",
    "    # Reduce dataframe to selected bands\n",
    "    df_cropped = df_cropped[bands]\n",
    "    \n",
    "    # Color map for spectral classes: black = soil, magenta = mixed, yellow = root\n",
    "    cmap = colors.ListedColormap(['#000000', '#cc0066', '#ffcc00'])\n",
    "     \n",
    "    # Crop SAM class image\n",
    "    SAM_img_cropped = img_dict[data_name].crop((x, y, x+length, y+length))\n",
    "        \n",
    "    fig, ax = plt.subplots()\n",
    "    ax.imshow(SAM_img_cropped)\n",
    "    plt.savefig(data_name + '_SAM_img_cropped.png', dpi = 300, bbox_inches = 'tight')\n",
    "    plt.close()\n",
    "\n",
    "    # Extract SAM class image pixel labels\n",
    "    SAM_gt = extract_gt_pixels(SAM_img_cropped, length, length)\n",
    "        \n",
    "    # Assign classification columns\n",
    "    df_cropped['SAM_class'] = SAM_gt.ravel()\n",
    "\n",
    "    return(df_cropped)  "
   ]
  },
  {
   "cell_type": "code",
   "execution_count": 19,
   "id": "e4d061b7",
   "metadata": {},
   "outputs": [],
   "source": [
    "def crop_hypercube_kmeans_labels(df_dict, img_dict, data_name, bands, x, y, length):\n",
    "\n",
    "    plt.style.use('classic')\n",
    "    \n",
    "    # Crop original hypercube\n",
    "    df_cropped = df_dict[data_name][y:y+length, x:x+length, :]\n",
    "    \n",
    "    # Hypercube dataframe\n",
    "    df_cropped = pd.DataFrame(df_cropped.reshape(df_cropped.shape[0]*df_cropped.shape[1], -1))\n",
    "    df_cropped.columns = [f'band{i}' for i in range(1, df_cropped.shape[-1]+1)]\n",
    "    \n",
    "    # Reduce dataframe to selected bands\n",
    "    df_cropped = df_cropped[bands]\n",
    "    \n",
    "    # Color map for spectral classes: black = soil, magenta = mixed, yellow = root\n",
    "    cmap = colors.ListedColormap(['#000000', '#cc0066', '#ffcc00'])\n",
    "     \n",
    "     # Crop kmeans class image\n",
    "    kmeans_gt = img_dict[data_name][y:y+length, x:x+length]\n",
    "        \n",
    "    fig, ax = plt.subplots()\n",
    "    ax.imshow(kmeans_gt, cmap = cmap)\n",
    "    plt.savefig(data_name + '_kmeans_cropped.png', dpi = 300, bbox_inches = 'tight')\n",
    "    plt.close()\n",
    "        \n",
    "    # Assign classification columns\n",
    "    df_cropped['kmeans_class'] = kmeans_gt.ravel()\n",
    "\n",
    "    return(df_cropped)  "
   ]
  },
  {
   "cell_type": "markdown",
   "id": "dff0823f",
   "metadata": {},
   "source": [
    "# Crop datacubes and merge to one dataframe"
   ]
  },
  {
   "cell_type": "code",
   "execution_count": 20,
   "id": "24e5745c",
   "metadata": {
    "scrolled": true
   },
   "outputs": [],
   "source": [
    "for key, item in data.items():\n",
    "    if 'A' in key:\n",
    "        box = show_roi(item.copy(), x = 600, y = 400, length = 300)\n",
    "        imshow(box, bands = (68, 40, 24), stretch = 0.01, figsize = (10, 10))\n",
    "        plt.savefig(key + '_model_area.png', dpi = 300, bbox_inches = 'tight')\n",
    "        plt.close()\n",
    "    \n",
    "    elif 'D' in key:\n",
    "        box = show_roi(item.copy(), x = 550, y = 500, length = 300)\n",
    "        imshow(box, bands = (68, 40, 24), stretch = 0.01, figsize = (10, 10))\n",
    "        plt.savefig(key + '_model_area.png', dpi = 300, bbox_inches = 'tight')\n",
    "        plt.close()"
   ]
  },
  {
   "cell_type": "code",
   "execution_count": 21,
   "id": "4bf26ad0",
   "metadata": {
    "scrolled": true
   },
   "outputs": [],
   "source": [
    "SAM_training_df = pd.DataFrame()\n",
    "\n",
    "for key, item in data.items():\n",
    "    if 'A' in key:\n",
    "        temp_df = crop_hypercube_SAM_labels(data, SAM_imgs, key, SAM_selected_bands, x = 600, y = 400, length = 300)\n",
    "        SAM_training_df = pd.concat([SAM_training_df, temp_df])\n",
    "    \n",
    "    if 'D2' in key:\n",
    "        temp_df = crop_hypercube_SAM_labels(data, SAM_imgs, key, SAM_selected_bands, x = 550, y = 500, length = 300)\n",
    "        SAM_training_df = pd.concat([SAM_training_df, temp_df])        "
   ]
  },
  {
   "cell_type": "code",
   "execution_count": 22,
   "id": "ccd7485c",
   "metadata": {
    "scrolled": true
   },
   "outputs": [],
   "source": [
    "kmeans_training_df = pd.DataFrame()\n",
    "\n",
    "for key, item in data.items():\n",
    "    if 'A' in key:\n",
    "        temp_df = crop_hypercube_kmeans_labels(data, kmeans_data, key, kmeans_selected_bands, x = 600, y = 400, length = 300)\n",
    "        kmeans_training_df = pd.concat([kmeans_training_df, temp_df])\n",
    "    \n",
    "    if 'D2' in key:\n",
    "        temp_df = crop_hypercube_kmeans_labels(data, kmeans_data, key, kmeans_selected_bands, x = 550, y = 500, length = 300)\n",
    "        kmeans_training_df = pd.concat([kmeans_training_df, temp_df]) \n",
    "        \n",
    "kmeans_training_df['kmeans_class'] = kmeans_training_df['kmeans_class'].replace({2 : 3, 1 : 2, 0 : 1})"
   ]
  },
  {
   "cell_type": "code",
   "execution_count": 23,
   "id": "8c1a827f",
   "metadata": {},
   "outputs": [
    {
     "name": "stdout",
     "output_type": "stream",
     "text": [
      "Shape:  (180000, 30)\n",
      "Shape:  (180000, 26)\n"
     ]
    }
   ],
   "source": [
    "print('Shape: ', SAM_training_df.shape)\n",
    "print('Shape: ', kmeans_training_df.shape)"
   ]
  },
  {
   "cell_type": "code",
   "execution_count": 24,
   "id": "c9ed9e01",
   "metadata": {},
   "outputs": [
    {
     "data": {
      "image/png": "[encoded data removed]",
      "text/plain": [
       "<Figure size 640x480 with 1 Axes>"
      ]
     },
     "metadata": {},
     "output_type": "display_data"
    }
   ],
   "source": [
    "sns.set(font_scale=1.2)\n",
    "\n",
    "ax = sns.countplot(x = SAM_training_df['SAM_class'], palette = ['white', 'black', '#D41159', '#ffcc00']) # order = ['0', '1', '2', '3']\n",
    "ax.set_xticklabels(['Unlabelled', 'Soil', 'Mixed', 'Root']) \n",
    "ax.set_title('SAM training data percentage of classified pixels')\n",
    "# plt.ylim(0, 450000)\n",
    "\n",
    "for p in ax.patches:\n",
    "        ax.annotate('{:.1f}%'.format(100*p.get_height()/SAM_training_df.shape[0]), (p.get_x()+0.3, p.get_height()+5))\n",
    "\n",
    "plt.savefig('SAM_training_data_percent_pixels_w_unlabelled.png', dpi = 300, bbox_inches = 'tight')\n",
    "plt.show()"
   ]
  },
  {
   "cell_type": "code",
   "execution_count": 25,
   "id": "c9c25fe8",
   "metadata": {},
   "outputs": [],
   "source": [
    "SAM_training_df = SAM_training_df[SAM_training_df['SAM_class'] != 0]"
   ]
  },
  {
   "cell_type": "code",
   "execution_count": 26,
   "id": "49b8888e",
   "metadata": {},
   "outputs": [
    {
     "name": "stdout",
     "output_type": "stream",
     "text": [
      "Shape:  (83003, 30)\n"
     ]
    }
   ],
   "source": [
    "print('Shape: ', SAM_training_df.shape)"
   ]
  },
  {
   "cell_type": "code",
   "execution_count": 27,
   "id": "9c9d2672",
   "metadata": {},
   "outputs": [
    {
     "data": {
      "image/png": "[encoded data removed]",
      "text/plain": [
       "<Figure size 640x480 with 1 Axes>"
      ]
     },
     "metadata": {},
     "output_type": "display_data"
    }
   ],
   "source": [
    "sns.set(font_scale=1.2)\n",
    "\n",
    "ax = sns.countplot(x = SAM_training_df['SAM_class'], palette = ['black', '#D41159', '#ffcc00']) # order = ['0', '1', '2', '3']\n",
    "ax.set_xticklabels(['Soil', 'Mixed', 'Root']) \n",
    "ax.set_title('SAM training data percentage of classified pixels')\n",
    "# plt.ylim(0, 120000)\n",
    "\n",
    "for p in ax.patches:\n",
    "        ax.annotate('{:.1f}%'.format(100*p.get_height()/SAM_training_df.shape[0]), (p.get_x()+0.3, p.get_height()+5))\n",
    "\n",
    "plt.savefig('SAM_training_data_percent_pixels.png', dpi = 300, bbox_inches = 'tight')\n",
    "plt.show()"
   ]
  },
  {
   "cell_type": "code",
   "execution_count": 28,
   "id": "de06562e",
   "metadata": {},
   "outputs": [
    {
     "data": {
      "image/png": "[encoded data removed]",
      "text/plain": [
       "<Figure size 640x480 with 1 Axes>"
      ]
     },
     "metadata": {},
     "output_type": "display_data"
    }
   ],
   "source": [
    "sns.set(font_scale=1.2)\n",
    "\n",
    "ax = sns.countplot(x = kmeans_training_df['kmeans_class'], palette = ['black', '#D41159', '#ffcc00']) # order = ['0', '1', '2', '3']\n",
    "ax.set_xticklabels(['Soil', 'Mixed', 'Root']) \n",
    "ax.set_title('KMeans training data percentage of classified pixels')\n",
    "plt.ylim(0, 110000)\n",
    "\n",
    "for p in ax.patches:\n",
    "        ax.annotate('{:.1f}%'.format(100*p.get_height()/kmeans_training_df.shape[0]), (p.get_x()+0.3, p.get_height()+5))\n",
    "\n",
    "plt.savefig('kmeans_training_data_percent_pixels.png', dpi = 300, bbox_inches = 'tight')\n",
    "plt.show()"
   ]
  },
  {
   "cell_type": "code",
   "execution_count": 29,
   "id": "b8050e2b",
   "metadata": {},
   "outputs": [],
   "source": [
    "SAM_training_df.to_csv('SAM_training_dataframe.csv')\n",
    "kmeans_training_df.to_csv('kmeans_training_dataframe.csv')"
   ]
  },
  {
   "cell_type": "markdown",
   "id": "1d9c4b63",
   "metadata": {},
   "source": [
    "# Running the models"
   ]
  },
  {
   "cell_type": "code",
   "execution_count": 30,
   "id": "09f0ca40",
   "metadata": {},
   "outputs": [],
   "source": [
    "SAM_train_data = SAM_training_df.iloc[:, :-1].values\n",
    "SAM_labels = SAM_training_df.iloc[:, -1].values.astype('uint8')\n",
    "\n",
    "kmeans_train_data = kmeans_training_df.iloc[:, :-1].values\n",
    "kmeans_labels = kmeans_training_df.iloc[:, -1].values.astype('uint8')\n",
    "\n",
    "names = ['Soil', 'Mixed', 'Root']"
   ]
  },
  {
   "cell_type": "markdown",
   "id": "68e93823",
   "metadata": {},
   "source": [
    "# Random Forest - SAM labels"
   ]
  },
  {
   "cell_type": "code",
   "execution_count": 31,
   "id": "649e1974",
   "metadata": {
    "scrolled": true
   },
   "outputs": [
    {
     "name": "stderr",
     "output_type": "stream",
     "text": [
      "[Parallel(n_jobs=1)]: Using backend SequentialBackend with 1 concurrent workers.\n"
     ]
    },
    {
     "name": "stdout",
     "output_type": "stream",
     "text": [
      "building tree 1 of 50\n"
     ]
    },
    {
     "name": "stderr",
     "output_type": "stream",
     "text": [
      "[Parallel(n_jobs=1)]: Done   1 out of   1 | elapsed:    0.1s remaining:    0.0s\n"
     ]
    },
    {
     "name": "stdout",
     "output_type": "stream",
     "text": [
      "building tree 2 of 50\n"
     ]
    },
    {
     "name": "stderr",
     "output_type": "stream",
     "text": [
      "[Parallel(n_jobs=1)]: Done   2 out of   2 | elapsed:    0.4s remaining:    0.0s\n"
     ]
    },
    {
     "name": "stdout",
     "output_type": "stream",
     "text": [
      "building tree 3 of 50\n"
     ]
    },
    {
     "name": "stderr",
     "output_type": "stream",
     "text": [
      "[Parallel(n_jobs=1)]: Done   3 out of   3 | elapsed:    0.6s remaining:    0.0s\n"
     ]
    },
    {
     "name": "stdout",
     "output_type": "stream",
     "text": [
      "building tree 4 of 50\n"
     ]
    },
    {
     "name": "stderr",
     "output_type": "stream",
     "text": [
      "[Parallel(n_jobs=1)]: Done   4 out of   4 | elapsed:    0.9s remaining:    0.0s\n"
     ]
    },
    {
     "name": "stdout",
     "output_type": "stream",
     "text": [
      "building tree 5 of 50\n",
      "building tree 6 of 50\n",
      "building tree 7 of 50\n",
      "building tree 8 of 50\n",
      "building tree 9 of 50\n",
      "building tree 10 of 50\n",
      "building tree 11 of 50\n",
      "building tree 12 of 50\n",
      "building tree 13 of 50\n",
      "building tree 14 of 50\n",
      "building tree 15 of 50\n",
      "building tree 16 of 50\n",
      "building tree 17 of 50\n",
      "building tree 18 of 50\n",
      "building tree 19 of 50\n",
      "building tree 20 of 50\n",
      "building tree 21 of 50\n",
      "building tree 22 of 50\n",
      "building tree 23 of 50\n",
      "building tree 24 of 50\n",
      "building tree 25 of 50\n",
      "building tree 26 of 50\n",
      "building tree 27 of 50\n",
      "building tree 28 of 50\n",
      "building tree 29 of 50\n",
      "building tree 30 of 50\n",
      "building tree 31 of 50\n",
      "building tree 32 of 50\n",
      "building tree 33 of 50\n",
      "building tree 34 of 50\n",
      "building tree 35 of 50\n",
      "building tree 36 of 50\n",
      "building tree 37 of 50\n",
      "building tree 38 of 50\n",
      "building tree 39 of 50\n",
      "building tree 40 of 50\n",
      "building tree 41 of 50\n",
      "building tree 42 of 50\n",
      "building tree 43 of 50\n",
      "building tree 44 of 50\n",
      "building tree 45 of 50\n",
      "building tree 46 of 50\n",
      "building tree 47 of 50\n",
      "building tree 48 of 50\n",
      "building tree 49 of 50\n",
      "building tree 50 of 50\n"
     ]
    },
    {
     "name": "stderr",
     "output_type": "stream",
     "text": [
      "[Parallel(n_jobs=1)]: Done  50 out of  50 | elapsed:   11.3s finished\n",
      "[Parallel(n_jobs=1)]: Using backend SequentialBackend with 1 concurrent workers.\n",
      "[Parallel(n_jobs=1)]: Done   1 out of   1 | elapsed:    0.0s remaining:    0.0s\n",
      "[Parallel(n_jobs=1)]: Done   2 out of   2 | elapsed:    0.0s remaining:    0.0s\n",
      "[Parallel(n_jobs=1)]: Done   3 out of   3 | elapsed:    0.0s remaining:    0.0s\n",
      "[Parallel(n_jobs=1)]: Done   4 out of   4 | elapsed:    0.0s remaining:    0.0s\n",
      "[Parallel(n_jobs=1)]: Done  50 out of  50 | elapsed:    0.0s finished\n"
     ]
    }
   ],
   "source": [
    "X_train, X_test, y_train, y_test = train_test_split(SAM_train_data, SAM_labels, \n",
    "                                                            test_size = 0.20, random_state = 11, stratify = SAM_labels)\n",
    "\n",
    "clf = RandomForestClassifier(n_estimators = 50, random_state = 0, verbose = 5)\n",
    "\n",
    "clf.fit(X_train, y_train)\n",
    "\n",
    "y_pred = clf.predict(X_test)"
   ]
  },
  {
   "cell_type": "code",
   "execution_count": 32,
   "id": "83a9bfb2",
   "metadata": {
    "scrolled": true
   },
   "outputs": [
    {
     "data": {
      "text/html": [
       "<div>\n",
       "<style scoped>\n",
       "    .dataframe tbody tr th:only-of-type {\n",
       "        vertical-align: middle;\n",
       "    }\n",
       "\n",
       "    .dataframe tbody tr th {\n",
       "        vertical-align: top;\n",
       "    }\n",
       "\n",
       "    .dataframe thead th {\n",
       "        text-align: right;\n",
       "    }\n",
       "</style>\n",
       "<table border=\"1\" class=\"dataframe\">\n",
       "  <thead>\n",
       "    <tr style=\"text-align: right;\">\n",
       "      <th></th>\n",
       "      <th>precision</th>\n",
       "      <th>recall</th>\n",
       "      <th>f1-score</th>\n",
       "      <th>support</th>\n",
       "    </tr>\n",
       "  </thead>\n",
       "  <tbody>\n",
       "    <tr>\n",
       "      <th>1. Soil</th>\n",
       "      <td>0.99</td>\n",
       "      <td>0.99</td>\n",
       "      <td>0.99</td>\n",
       "      <td>4704.00</td>\n",
       "    </tr>\n",
       "    <tr>\n",
       "      <th>2. Mixed</th>\n",
       "      <td>0.93</td>\n",
       "      <td>0.95</td>\n",
       "      <td>0.94</td>\n",
       "      <td>7150.00</td>\n",
       "    </tr>\n",
       "    <tr>\n",
       "      <th>3. Root</th>\n",
       "      <td>0.93</td>\n",
       "      <td>0.91</td>\n",
       "      <td>0.92</td>\n",
       "      <td>4747.00</td>\n",
       "    </tr>\n",
       "    <tr>\n",
       "      <th>accuracy</th>\n",
       "      <td>0.95</td>\n",
       "      <td>0.95</td>\n",
       "      <td>0.95</td>\n",
       "      <td>0.95</td>\n",
       "    </tr>\n",
       "    <tr>\n",
       "      <th>macro avg</th>\n",
       "      <td>0.95</td>\n",
       "      <td>0.95</td>\n",
       "      <td>0.95</td>\n",
       "      <td>16601.00</td>\n",
       "    </tr>\n",
       "    <tr>\n",
       "      <th>weighted avg</th>\n",
       "      <td>0.95</td>\n",
       "      <td>0.95</td>\n",
       "      <td>0.95</td>\n",
       "      <td>16601.00</td>\n",
       "    </tr>\n",
       "  </tbody>\n",
       "</table>\n",
       "</div>"
      ],
      "text/plain": [
       "              precision  recall  f1-score   support\n",
       "1. Soil            0.99    0.99      0.99   4704.00\n",
       "2. Mixed           0.93    0.95      0.94   7150.00\n",
       "3. Root            0.93    0.91      0.92   4747.00\n",
       "accuracy           0.95    0.95      0.95      0.95\n",
       "macro avg          0.95    0.95      0.95  16601.00\n",
       "weighted avg       0.95    0.95      0.95  16601.00"
      ]
     },
     "metadata": {},
     "output_type": "display_data"
    }
   ],
   "source": [
    "report = pd.DataFrame(classification_report(y_test, y_pred,  target_names = ['1. Soil', '2. Mixed', '3. Root'], \n",
    "                                                      output_dict = True)).round(2).transpose()\n",
    "display(report)\n",
    "report.to_excel('SAM_training_RF_classification_report.xlsx')"
   ]
  },
  {
   "cell_type": "code",
   "execution_count": 33,
   "id": "3167ad10",
   "metadata": {
    "scrolled": false
   },
   "outputs": [
    {
     "data": {
      "image/png": "[encoded data removed]",
      "text/plain": [
       "<Figure size 800x640 with 2 Axes>"
      ]
     },
     "metadata": {},
     "output_type": "display_data"
    }
   ],
   "source": [
    "df_cm = pd.DataFrame(confusion_matrix(y_test, y_pred), columns = names, index = names) \n",
    "df_cm.index.name = 'Actual'\n",
    "df_cm.columns.name = 'Predicted'\n",
    "plt.figure(figsize = (10,8))\n",
    "plt.title('SAM Confusion Matrix', fontsize = '20')\n",
    "sns.heatmap(df_cm, cmap = 'copper', annot=True,annot_kws={\"size\": 16}, fmt='d')\n",
    "plt.savefig('SAM_training_predicted_RF_confusion_matrix.png', dpi=300)"
   ]
  },
  {
   "cell_type": "markdown",
   "id": "2833a2c3",
   "metadata": {},
   "source": [
    "### Save model"
   ]
  },
  {
   "cell_type": "code",
   "execution_count": 34,
   "id": "7698d6e0",
   "metadata": {},
   "outputs": [],
   "source": [
    "filename = 'SAM_RF_model.csv'\n",
    "pickle.dump(clf, open(filename, 'wb'))"
   ]
  },
  {
   "cell_type": "markdown",
   "id": "0b309a82",
   "metadata": {},
   "source": [
    "# Random Forest - KMeans labels"
   ]
  },
  {
   "cell_type": "code",
   "execution_count": 35,
   "id": "7099f54a",
   "metadata": {
    "scrolled": true
   },
   "outputs": [
    {
     "name": "stderr",
     "output_type": "stream",
     "text": [
      "[Parallel(n_jobs=1)]: Using backend SequentialBackend with 1 concurrent workers.\n"
     ]
    },
    {
     "name": "stdout",
     "output_type": "stream",
     "text": [
      "building tree 1 of 50\n"
     ]
    },
    {
     "name": "stderr",
     "output_type": "stream",
     "text": [
      "[Parallel(n_jobs=1)]: Done   1 out of   1 | elapsed:    0.5s remaining:    0.0s\n"
     ]
    },
    {
     "name": "stdout",
     "output_type": "stream",
     "text": [
      "building tree 2 of 50\n"
     ]
    },
    {
     "name": "stderr",
     "output_type": "stream",
     "text": [
      "[Parallel(n_jobs=1)]: Done   2 out of   2 | elapsed:    1.1s remaining:    0.0s\n"
     ]
    },
    {
     "name": "stdout",
     "output_type": "stream",
     "text": [
      "building tree 3 of 50\n"
     ]
    },
    {
     "name": "stderr",
     "output_type": "stream",
     "text": [
      "[Parallel(n_jobs=1)]: Done   3 out of   3 | elapsed:    1.8s remaining:    0.0s\n"
     ]
    },
    {
     "name": "stdout",
     "output_type": "stream",
     "text": [
      "building tree 4 of 50\n"
     ]
    },
    {
     "name": "stderr",
     "output_type": "stream",
     "text": [
      "[Parallel(n_jobs=1)]: Done   4 out of   4 | elapsed:    2.4s remaining:    0.0s\n"
     ]
    },
    {
     "name": "stdout",
     "output_type": "stream",
     "text": [
      "building tree 5 of 50\n",
      "building tree 6 of 50\n",
      "building tree 7 of 50\n",
      "building tree 8 of 50\n",
      "building tree 9 of 50\n",
      "building tree 10 of 50\n",
      "building tree 11 of 50\n",
      "building tree 12 of 50\n",
      "building tree 13 of 50\n",
      "building tree 14 of 50\n",
      "building tree 15 of 50\n",
      "building tree 16 of 50\n",
      "building tree 17 of 50\n",
      "building tree 18 of 50\n",
      "building tree 19 of 50\n",
      "building tree 20 of 50\n",
      "building tree 21 of 50\n",
      "building tree 22 of 50\n",
      "building tree 23 of 50\n",
      "building tree 24 of 50\n",
      "building tree 25 of 50\n",
      "building tree 26 of 50\n",
      "building tree 27 of 50\n",
      "building tree 28 of 50\n",
      "building tree 29 of 50\n",
      "building tree 30 of 50\n",
      "building tree 31 of 50\n",
      "building tree 32 of 50\n",
      "building tree 33 of 50\n",
      "building tree 34 of 50\n",
      "building tree 35 of 50\n",
      "building tree 36 of 50\n",
      "building tree 37 of 50\n",
      "building tree 38 of 50\n",
      "building tree 39 of 50\n",
      "building tree 40 of 50\n",
      "building tree 41 of 50\n",
      "building tree 42 of 50\n",
      "building tree 43 of 50\n",
      "building tree 44 of 50\n",
      "building tree 45 of 50\n",
      "building tree 46 of 50\n",
      "building tree 47 of 50\n",
      "building tree 48 of 50\n",
      "building tree 49 of 50\n",
      "building tree 50 of 50\n"
     ]
    },
    {
     "name": "stderr",
     "output_type": "stream",
     "text": [
      "[Parallel(n_jobs=1)]: Done  50 out of  50 | elapsed:   30.3s finished\n",
      "[Parallel(n_jobs=1)]: Using backend SequentialBackend with 1 concurrent workers.\n",
      "[Parallel(n_jobs=1)]: Done   1 out of   1 | elapsed:    0.0s remaining:    0.0s\n",
      "[Parallel(n_jobs=1)]: Done   2 out of   2 | elapsed:    0.0s remaining:    0.0s\n",
      "[Parallel(n_jobs=1)]: Done   3 out of   3 | elapsed:    0.0s remaining:    0.0s\n",
      "[Parallel(n_jobs=1)]: Done   4 out of   4 | elapsed:    0.0s remaining:    0.0s\n",
      "[Parallel(n_jobs=1)]: Done  50 out of  50 | elapsed:    0.2s finished\n"
     ]
    }
   ],
   "source": [
    "X_train, X_test, y_train, y_test = train_test_split(kmeans_train_data, kmeans_labels, \n",
    "                                                            test_size = 0.20, random_state = 11, stratify = kmeans_labels)\n",
    "\n",
    "clf = RandomForestClassifier(n_estimators = 50, random_state = 0, verbose = 5)\n",
    "\n",
    "clf.fit(X_train, y_train)\n",
    "\n",
    "y_pred = clf.predict(X_test)"
   ]
  },
  {
   "cell_type": "code",
   "execution_count": 36,
   "id": "af4564d8",
   "metadata": {
    "scrolled": true
   },
   "outputs": [
    {
     "data": {
      "text/html": [
       "<div>\n",
       "<style scoped>\n",
       "    .dataframe tbody tr th:only-of-type {\n",
       "        vertical-align: middle;\n",
       "    }\n",
       "\n",
       "    .dataframe tbody tr th {\n",
       "        vertical-align: top;\n",
       "    }\n",
       "\n",
       "    .dataframe thead th {\n",
       "        text-align: right;\n",
       "    }\n",
       "</style>\n",
       "<table border=\"1\" class=\"dataframe\">\n",
       "  <thead>\n",
       "    <tr style=\"text-align: right;\">\n",
       "      <th></th>\n",
       "      <th>precision</th>\n",
       "      <th>recall</th>\n",
       "      <th>f1-score</th>\n",
       "      <th>support</th>\n",
       "    </tr>\n",
       "  </thead>\n",
       "  <tbody>\n",
       "    <tr>\n",
       "      <th>1. Soil</th>\n",
       "      <td>0.90</td>\n",
       "      <td>0.91</td>\n",
       "      <td>0.91</td>\n",
       "      <td>19596.00</td>\n",
       "    </tr>\n",
       "    <tr>\n",
       "      <th>2. Mixed</th>\n",
       "      <td>0.78</td>\n",
       "      <td>0.84</td>\n",
       "      <td>0.81</td>\n",
       "      <td>12252.00</td>\n",
       "    </tr>\n",
       "    <tr>\n",
       "      <th>3. Root</th>\n",
       "      <td>0.96</td>\n",
       "      <td>0.75</td>\n",
       "      <td>0.84</td>\n",
       "      <td>4152.00</td>\n",
       "    </tr>\n",
       "    <tr>\n",
       "      <th>accuracy</th>\n",
       "      <td>0.87</td>\n",
       "      <td>0.87</td>\n",
       "      <td>0.87</td>\n",
       "      <td>0.87</td>\n",
       "    </tr>\n",
       "    <tr>\n",
       "      <th>macro avg</th>\n",
       "      <td>0.88</td>\n",
       "      <td>0.83</td>\n",
       "      <td>0.85</td>\n",
       "      <td>36000.00</td>\n",
       "    </tr>\n",
       "    <tr>\n",
       "      <th>weighted avg</th>\n",
       "      <td>0.87</td>\n",
       "      <td>0.87</td>\n",
       "      <td>0.87</td>\n",
       "      <td>36000.00</td>\n",
       "    </tr>\n",
       "  </tbody>\n",
       "</table>\n",
       "</div>"
      ],
      "text/plain": [
       "              precision  recall  f1-score   support\n",
       "1. Soil            0.90    0.91      0.91  19596.00\n",
       "2. Mixed           0.78    0.84      0.81  12252.00\n",
       "3. Root            0.96    0.75      0.84   4152.00\n",
       "accuracy           0.87    0.87      0.87      0.87\n",
       "macro avg          0.88    0.83      0.85  36000.00\n",
       "weighted avg       0.87    0.87      0.87  36000.00"
      ]
     },
     "metadata": {},
     "output_type": "display_data"
    }
   ],
   "source": [
    "report = pd.DataFrame(classification_report(y_test, y_pred,  target_names = ['1. Soil', '2. Mixed', '3. Root'], \n",
    "                                                      output_dict = True)).round(2).transpose()\n",
    "display(report)\n",
    "report.to_excel('kmeans_training_RF_classification_report.xlsx')"
   ]
  },
  {
   "cell_type": "code",
   "execution_count": 37,
   "id": "fc835277",
   "metadata": {
    "scrolled": false
   },
   "outputs": [
    {
     "data": {
      "image/png": "[encoded data removed]",
      "text/plain": [
       "<Figure size 800x640 with 2 Axes>"
      ]
     },
     "metadata": {},
     "output_type": "display_data"
    }
   ],
   "source": [
    "df_cm = pd.DataFrame(confusion_matrix(y_test, y_pred), columns = names, index = names) \n",
    "df_cm.index.name = 'Actual'\n",
    "df_cm.columns.name = 'Predicted'\n",
    "plt.figure(figsize = (10,8))\n",
    "plt.title('KMeans Confusion Matrix', fontsize = '20')\n",
    "sns.heatmap(df_cm, cmap = 'copper', annot=True,annot_kws={\"size\": 16}, fmt='d')\n",
    "plt.savefig('kmeans_training_predicted_RF_confusion_matrix.png', dpi=300)"
   ]
  },
  {
   "cell_type": "markdown",
   "id": "538d8eed",
   "metadata": {},
   "source": [
    "### Save model"
   ]
  },
  {
   "cell_type": "code",
   "execution_count": 38,
   "id": "6b47ef59",
   "metadata": {},
   "outputs": [],
   "source": [
    "filename = 'kmeans_RF_model.csv'\n",
    "pickle.dump(clf, open(filename, 'wb'))"
   ]
  }
 ],
 "metadata": {
  "kernelspec": {
   "display_name": "Python 3 (ipykernel)",
   "language": "python",
   "name": "python3"
  },
  "language_info": {
   "codemirror_mode": {
    "name": "ipython",
    "version": 3
   },
   "file_extension": ".py",
   "mimetype": "text/x-python",
   "name": "python",
   "nbconvert_exporter": "python",
   "pygments_lexer": "ipython3",
   "version": "3.9.12"
  }
 },
 "nbformat": 4,
 "nbformat_minor": 5
}
