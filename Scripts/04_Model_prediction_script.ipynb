{
 "cells": [
  {
   "cell_type": "markdown",
   "id": "3ed8412e",
   "metadata": {},
   "source": [
    "# Table of contents"
   ]
  },
  {
   "cell_type": "markdown",
   "id": "136b37ea",
   "metadata": {},
   "source": [
    "# Load libraries"
   ]
  },
  {
   "cell_type": "code",
   "execution_count": 1,
   "id": "8e7ca0b6",
   "metadata": {},
   "outputs": [],
   "source": [
    "import os\n",
    "import re\n",
    "import pandas as pd\n",
    "import numpy as np\n",
    "from tqdm import tqdm\n",
    "from PIL import Image\n",
    "from pathlib import Path\n",
    "from spectral import envi, imshow\n",
    "\n",
    "import pickle\n",
    "import webcolors\n",
    "from sklearn.metrics import classification_report, confusion_matrix, accuracy_score\n",
    "from sklearn.cross_decomposition import PLSRegression\n",
    "\n",
    "import seaborn as sns\n",
    "import matplotlib.pyplot as plt\n",
    "%matplotlib inline\n",
    "plt.style.use('classic')\n",
    "from matplotlib import colors\n",
    "\n",
    "sns.set(font_scale=1.6) #for label size"
   ]
  },
  {
   "cell_type": "markdown",
   "id": "7bd8caaa",
   "metadata": {},
   "source": [
    "## Load data"
   ]
  },
  {
   "cell_type": "markdown",
   "id": "9986b03b",
   "metadata": {},
   "source": [
    "Insert name of folder containing data_files and scripts here"
   ]
  },
  {
   "cell_type": "code",
   "execution_count": 2,
   "id": "5569cca5",
   "metadata": {},
   "outputs": [],
   "source": [
    "folder = ''"
   ]
  },
  {
   "cell_type": "code",
   "execution_count": 3,
   "id": "ff5c85a9",
   "metadata": {},
   "outputs": [],
   "source": [
    "data_path = Path(folder)\n",
    "\n",
    "data_files = 'Data_files'\n",
    "data_files_path = data_path / data_files\n",
    "\n",
    "KMeans_data_folder = 'Data_classification_results/KMeans data'\n",
    "KMeans_data_path = data_path / KMeans_data_folder\n",
    "\n",
    "bands_folder = 'Data_classification_results/Data pre-treatment'\n",
    "bands_path = data_path / bands_folder\n",
    "\n",
    "model_folder = 'Data_classification_results/Model creation'\n",
    "model_path = data_path / model_folder \n",
    "\n",
    "results_folder = 'Data_classification_results/Model prediction'\n",
    "results_path = data_path / results_folder\n",
    "results_path.mkdir(parents=True, exist_ok = True)\n",
    "os.chdir(results_path)"
   ]
  },
  {
   "cell_type": "markdown",
   "id": "9cee457c",
   "metadata": {},
   "source": [
    "### Processing functions"
   ]
  },
  {
   "cell_type": "code",
   "execution_count": 4,
   "id": "a40335e5",
   "metadata": {},
   "outputs": [],
   "source": [
    "def process_hdr_files(data_path):\n",
    "    data = {}\n",
    "    \n",
    "    hdr_files = [x for x in data_path.iterdir() if x.suffix == '.hdr' and x.stem.endswith('_processed')]\n",
    "    \n",
    "    for hdr_file in tqdm(hdr_files):\n",
    "        name = \" \".join(re.findall('(.*?)\\_processed', hdr_file.stem))\n",
    "\n",
    "        try:\n",
    "            X = envi.open(hdr_file.as_posix()).load()\n",
    "            cleaned_X = np.where(X > 1, 0, X.copy()) # Create a modified copy of the array to change over-exposed pixels to 0     \n",
    "            data[name] = cleaned_X\n",
    "            \n",
    "        except Exception as e:\n",
    "            print(f\"Error while loading data from '{hdr_file}': {e}\")\n",
    "            \n",
    "    return data\n",
    "\n",
    "def import_SAM_class_img(data_path):\n",
    "    SAM_imgs = {}\n",
    "    \n",
    "    SAM_img_files = [x for x in data_path.iterdir() if x.suffix == '.png' and x.stem.endswith('_class_image')]\n",
    "    \n",
    "    for img_file in tqdm(SAM_img_files):\n",
    "        name = \" \".join(re.findall('(.*?)\\_class_image', img_file.stem))\n",
    "        \n",
    "        try:\n",
    "            Y = Image.open(img_file)\n",
    "            \n",
    "            SAM_imgs[name] = Y\n",
    "            \n",
    "        except FileNotFoundError as e:\n",
    "            print(f\"Error: File '{img_file}' not found: {e}\")\n",
    "        except OSError as e:\n",
    "            print(f\"Error while opening image '{img_file}': {e}\")\n",
    "            \n",
    "    return SAM_imgs\n",
    "\n",
    "def import_kmeans_gt(data_path):\n",
    "    kmeans_data = {}\n",
    "    \n",
    "    kmeans_files = [x for x in data_path.iterdir() if x.suffix == '.csv' and x.stem.startswith('kmeans_img')]\n",
    "    \n",
    "    for img_file in tqdm(kmeans_files):\n",
    "        name = \" \".join(re.findall('kmeans_img_(.*)', img_file.stem))\n",
    "        \n",
    "        try:\n",
    "            Q = pd.read_csv(img_file, index_col = 0)\n",
    "            Q = Q.values.astype('uint8')\n",
    "            \n",
    "            kmeans_data[name] = Q\n",
    "        \n",
    "        except FileNotFoundError as e:\n",
    "            print(f\"Error: File '{img_file}' not found: {e}\")\n",
    "            \n",
    "    return kmeans_data"
   ]
  },
  {
   "cell_type": "markdown",
   "id": "a9ee5fd1",
   "metadata": {},
   "source": [
    "### Process data"
   ]
  },
  {
   "cell_type": "code",
   "execution_count": 5,
   "id": "61834328",
   "metadata": {},
   "outputs": [
    {
     "name": "stderr",
     "output_type": "stream",
     "text": [
      "100%|██████████| 2/2 [00:08<00:00,  4.09s/it]\n",
      "100%|██████████| 2/2 [00:00<00:00, 251.52it/s]\n",
      "100%|██████████| 2/2 [00:00<00:00,  4.77it/s]\n"
     ]
    }
   ],
   "source": [
    "# Call the function to process the '.hdr' files and populate the data dictionary\n",
    "data = process_hdr_files(data_files_path)  \n",
    "\n",
    "# Call the function to process the class image files and populate the data dictionary\n",
    "SAM_imgs = import_SAM_class_img(data_files_path)\n",
    "kmeans_data = import_kmeans_gt(KMeans_data_path)"
   ]
  },
  {
   "cell_type": "markdown",
   "id": "ad0e4492",
   "metadata": {},
   "source": [
    "### Load one file for metadata and wavelengths"
   ]
  },
  {
   "cell_type": "code",
   "execution_count": 6,
   "id": "533c797f",
   "metadata": {
    "scrolled": true
   },
   "outputs": [],
   "source": [
    "def get_wl(data_path):\n",
    "    \n",
    "    hdr_files = [x for x in data_files_path.iterdir() if x.suffix == '.hdr' and x.stem.endswith('_processed')]\n",
    "\n",
    "    for file in hdr_files:\n",
    "        data_file = envi.open(file.as_posix()).load()\n",
    "        break\n",
    "    \n",
    "    wl_list = np.array(data_file.metadata['wavelength'])\n",
    "    wl = np.array([float(wavelength) for wavelength in wl_list])\n",
    "    del data_file\n",
    "    \n",
    "    return wl"
   ]
  },
  {
   "cell_type": "code",
   "execution_count": 7,
   "id": "198f1436",
   "metadata": {},
   "outputs": [],
   "source": [
    "wl = get_wl(data_files_path)"
   ]
  },
  {
   "cell_type": "code",
   "execution_count": 8,
   "id": "818e9dd4",
   "metadata": {},
   "outputs": [
    {
     "name": "stdout",
     "output_type": "stream",
     "text": [
      "[470.        472.885906  475.7718121 478.6577181 481.5436242 484.4295302\n",
      " 487.3154362 490.2013423 493.0872483 495.9731544 498.8590604 501.7449664\n",
      " 504.6308725 507.5167785 510.4026846 513.2885906 516.1744966 519.0604027\n",
      " 521.9463087 524.8322148 527.7181208 530.6040268 533.4899329 536.3758389\n",
      " 539.261745  542.147651  545.033557  547.9194631 550.8053691 553.6912752\n",
      " 556.5771812 559.4630872 562.3489933 565.2348993 568.1208054 571.0067114\n",
      " 573.8926174 576.7785235 579.6644295 582.5503356 585.4362416 588.3221477\n",
      " 591.2080537 594.0939597 596.9798658 599.8657718 602.7516779 605.6375839\n",
      " 608.5234899 611.409396  614.295302  617.1812081 620.0671141 622.9530201\n",
      " 625.8389262 628.7248322 631.6107383 634.4966443 637.3825503 640.2684564\n",
      " 643.1543624 646.0402685 648.9261745 651.8120805 654.6979866 657.5838926\n",
      " 660.4697987 663.3557047 666.2416107 669.1275168 672.0134228 674.8993289\n",
      " 677.7852349 680.6711409 683.557047  686.442953  689.3288591 692.2147651\n",
      " 695.1006711 697.9865772 700.8724832 703.7583893 706.6442953 709.5302013\n",
      " 712.4161074 715.3020134 718.1879195 721.0738255 723.9597315 726.8456376\n",
      " 729.7315436 732.6174497 735.5033557 738.3892617 741.2751678 744.1610738\n",
      " 747.0469799 749.9328859 752.8187919 755.704698  758.590604  761.4765101\n",
      " 764.3624161 767.2483221 770.1342282 773.0201342 775.9060403 778.7919463\n",
      " 781.6778523 784.5637584 787.4496644 790.3355705 793.2214765 796.1073826\n",
      " 798.9932886 801.8791946 804.7651007 807.6510067 810.5369128 813.4228188\n",
      " 816.3087248 819.1946309 822.0805369 824.966443  827.852349  830.738255\n",
      " 833.6241611 836.5100671 839.3959732 842.2818792 845.1677852 848.0536913\n",
      " 850.9395973 853.8255034 856.7114094 859.5973154 862.4832215 865.3691275\n",
      " 868.2550336 871.1409396 874.0268456 876.9127517 879.7986577 882.6845638\n",
      " 885.5704698 888.4563758 891.3422819 894.2281879 897.114094  900.       ]\n"
     ]
    }
   ],
   "source": [
    "print(wl)"
   ]
  },
  {
   "cell_type": "markdown",
   "id": "39df7cb8",
   "metadata": {},
   "source": [
    "### Integration times"
   ]
  },
  {
   "cell_type": "code",
   "execution_count": 9,
   "id": "aa1f9b5f",
   "metadata": {},
   "outputs": [],
   "source": [
    "int_times = {}\n",
    "hdr_files = [x for x in data_files_path.iterdir() if x.suffix == '.hdr' and x.stem.endswith('_processed')]\n",
    "\n",
    "for file in hdr_files:\n",
    "    name = \" \".join(re.findall('(.*?)\\_processed', file.stem))\n",
    "    data_file = envi.open(file.as_posix()).metadata['integration time']\n",
    "    int_times[name] = data_file\n",
    "\n",
    "integ = pd.DataFrame.from_dict(int_times, orient = 'index')\n",
    "integ.reset_index(inplace = True)\n",
    "integ = integ.rename(columns = {'index' : 'ID', 0 : 'integration time'})\n",
    "integ.set_index('ID', inplace = True)\n",
    "integ.to_excel('integration_times.xlsx')"
   ]
  },
  {
   "cell_type": "markdown",
   "id": "4b2a6de3",
   "metadata": {},
   "source": [
    "### Load models"
   ]
  },
  {
   "cell_type": "code",
   "execution_count": 10,
   "id": "614e2b6d",
   "metadata": {},
   "outputs": [
    {
     "name": "stderr",
     "output_type": "stream",
     "text": [
      "100%|██████████| 2/2 [00:00<00:00, 10.34it/s]\n"
     ]
    }
   ],
   "source": [
    "model_files = [x for x in model_path.iterdir() if x.suffix == '.csv' and x.stem.endswith('model')]\n",
    "    \n",
    "for file in tqdm(model_files):\n",
    "    if file.stem.startswith('SAM'):  \n",
    "        SAM_model = pickle.load(open(file, 'rb'))\n",
    "    if file.stem.startswith('kmeans'):  \n",
    "        kmeans_model = pickle.load(open(file, 'rb'))"
   ]
  },
  {
   "cell_type": "markdown",
   "id": "39cbd571",
   "metadata": {},
   "source": [
    "### Load selected bands"
   ]
  },
  {
   "cell_type": "code",
   "execution_count": 11,
   "id": "17e006d9",
   "metadata": {},
   "outputs": [],
   "source": [
    "band_files = [x for x in bands_path.iterdir() if x.suffix == '.csv' and x.stem.endswith('bands')]\n",
    "\n",
    "for file in band_files:\n",
    "    if file.stem.startswith('SAM'):\n",
    "        SAM_selected_bands = np.array(pd.read_csv(file)).ravel()\n",
    "    if file.stem.startswith('kmeans'):\n",
    "        kmeans_selected_bands = np.array(pd.read_csv(file)).ravel()"
   ]
  },
  {
   "cell_type": "code",
   "execution_count": 12,
   "id": "448d8989",
   "metadata": {},
   "outputs": [
    {
     "name": "stdout",
     "output_type": "stream",
     "text": [
      "['band20' 'band26' 'band42' 'band55' 'band69' 'band79' 'band89' 'band115'\n",
      " 'band124' 'band132']\n",
      "['band42' 'band55' 'band73' 'band81' 'band88' 'band115' 'band124'\n",
      " 'band132']\n"
     ]
    }
   ],
   "source": [
    "print(SAM_selected_bands)\n",
    "print(kmeans_selected_bands)"
   ]
  },
  {
   "cell_type": "markdown",
   "id": "4cd7afb5",
   "metadata": {},
   "source": [
    "### Data contents"
   ]
  },
  {
   "cell_type": "code",
   "execution_count": 13,
   "id": "da85ecf8",
   "metadata": {},
   "outputs": [
    {
     "name": "stdout",
     "output_type": "stream",
     "text": [
      "dict_keys(['A2', 'D2'])\n",
      "dict_keys(['A2', 'D2'])\n",
      "dict_keys(['A2', 'D2'])\n"
     ]
    }
   ],
   "source": [
    "print(data.keys())\n",
    "print(SAM_imgs.keys())\n",
    "print(kmeans_data.keys())"
   ]
  },
  {
   "cell_type": "markdown",
   "id": "6e1ea600",
   "metadata": {},
   "source": [
    "#### Data shape"
   ]
  },
  {
   "cell_type": "code",
   "execution_count": 14,
   "id": "f6770d80",
   "metadata": {},
   "outputs": [
    {
     "name": "stdout",
     "output_type": "stream",
     "text": [
      "(1528, 2048, 150)\n",
      "(2048, 1528)\n",
      "(1528, 2048)\n"
     ]
    }
   ],
   "source": [
    "print(data['A2'].shape)\n",
    "print(SAM_imgs['A2'].size)\n",
    "print(kmeans_data['A2'].shape)"
   ]
  },
  {
   "cell_type": "markdown",
   "id": "810b40a8",
   "metadata": {},
   "source": [
    "### Functions to extract data"
   ]
  },
  {
   "cell_type": "code",
   "execution_count": 15,
   "id": "7fdefea8",
   "metadata": {},
   "outputs": [],
   "source": [
    "def extract_gt_pixels(y, shape1, shape2):\n",
    "    \n",
    "    def get_colour_name(rgb_triplet):\n",
    "        min_colours = {}\n",
    "        for key, name in webcolors.CSS3_HEX_TO_NAMES.items():\n",
    "            r_c, g_c, b_c = webcolors.hex_to_rgb(key)\n",
    "            rd = (r_c - rgb_triplet[0]) ** 2\n",
    "            gd = (g_c - rgb_triplet[1]) ** 2\n",
    "            bd = (b_c - rgb_triplet[2]) ** 2\n",
    "            min_colours[(rd + gd + bd)] = name\n",
    "        return min_colours[min(min_colours.keys())]\n",
    "    \n",
    "    y_data = list(y.getdata())\n",
    "    color_dict = {}\n",
    "    for x in set(y_data):\n",
    "         color_dict[x] = get_colour_name(x)\n",
    "\n",
    "    color_dict[(0, 0, 0, 0)] =  'white'  \n",
    "    class_dict = {'white' : '0', 'black' : '1', 'mediumvioletred' : '2', 'gold' : '3'}\n",
    "            # white - unlabelled, black - soil, magenta - interface, yellow - root\n",
    "\n",
    "    color_pixels = [color_dict[k] for k in y_data]\n",
    "    \n",
    "    pixel_labels = np.array([class_dict.get(k, 0) for k in color_pixels])\n",
    "    \n",
    "    gt = pixel_labels.reshape((shape1, shape2)).astype('uint8')\n",
    "    \n",
    "    return gt"
   ]
  },
  {
   "cell_type": "code",
   "execution_count": 16,
   "id": "0baac64f",
   "metadata": {},
   "outputs": [],
   "source": [
    "def get_dict_name(some_dict):\n",
    "    dict_name = [name for name, obj in globals().items() if obj is some_dict]\n",
    "    return dict_name[0]"
   ]
  },
  {
   "cell_type": "code",
   "execution_count": 17,
   "id": "5880631a",
   "metadata": {},
   "outputs": [],
   "source": [
    "def hypercube_to_df(df_dict, data_name):\n",
    "\n",
    "    # 3D hypercube to 2D dataframe\n",
    "    X = df_dict[data_name]\n",
    "    df = pd.DataFrame(X.reshape(X.shape[0]*X.shape[1], -1))\n",
    "    df.columns = [f'band{i}' for i in range(1, df.shape[-1]+1)]\n",
    "    return(df)\n",
    "\n",
    "def reduce_bands(df, bands): \n",
    "    df = df[bands]\n",
    "    return(df)\n",
    "\n",
    "def assign_labels(df, gt):\n",
    "    new_df = df.assign(Class=gt.ravel())\n",
    "#     new_df['Class'] = gt.ravel()  \n",
    "    return(new_df)"
   ]
  },
  {
   "cell_type": "code",
   "execution_count": 18,
   "id": "8fa93cdd",
   "metadata": {},
   "outputs": [],
   "source": [
    "def df_SAM_labels(df_dict, img_dict, data_name, bands, shape1, shape2):\n",
    "    \n",
    "    df = hypercube_to_df(df_dict, data_name)\n",
    "    df = reduce_bands(df, bands)\n",
    "\n",
    "    # Extract SAM class image pixel labels\n",
    "    gt = extract_gt_pixels(img_dict[data_name], shape1, shape2)\n",
    "    \n",
    "    df = assign_labels(df, gt)\n",
    "\n",
    "    return(df)  "
   ]
  },
  {
   "cell_type": "code",
   "execution_count": 19,
   "id": "7b667f37",
   "metadata": {},
   "outputs": [],
   "source": [
    "def df_kmeans_labels(df_dict, img_dict, data_name, bands, shape1, shape2):\n",
    "    \n",
    "    df = hypercube_to_df(df_dict, data_name)\n",
    "    df = reduce_bands(df, bands)\n",
    "        \n",
    "    # Extract kmeans class image pixel labels\n",
    "    gt = img_dict[data_name]\n",
    "        \n",
    "    df = assign_labels(df, gt)\n",
    "    df['Class'] = df['Class'].replace({2 : 3, 1 : 2, 0 : 1})\n",
    "    \n",
    "    return(df)  "
   ]
  },
  {
   "cell_type": "code",
   "execution_count": 20,
   "id": "8faff445",
   "metadata": {},
   "outputs": [],
   "source": [
    "def hypercube_to_df_selected_bands(df_dict, data_name, bands):\n",
    "\n",
    "    # Hypercube dataframe\n",
    "    X = df_dict[data_name]\n",
    "    df = pd.DataFrame(X.reshape(X.shape[0]*X.shape[1], -1))\n",
    "    df.columns = [f'band{i}' for i in range(1, df.shape[-1]+1)]\n",
    "    \n",
    "    # Reduce dataframe to selected bands for model prediction\n",
    "    df = df[bands]\n",
    "\n",
    "    return(df) "
   ]
  },
  {
   "cell_type": "code",
   "execution_count": 21,
   "id": "d5dd7334",
   "metadata": {},
   "outputs": [],
   "source": [
    "def df_SAM_labels(df_dict, img_dict, data_name, bands, shape1, shape2):\n",
    "    \n",
    "    df = hypercube_to_df_selected_bands(df_dict, data_name, bands)\n",
    "\n",
    "    # Extract SAM class image pixel labels\n",
    "    gt = extract_gt_pixels(img_dict[data_name], shape1, shape2)\n",
    "    \n",
    "    # Assign classification columns\n",
    "    df['SAM_class'] = gt.ravel()\n",
    "\n",
    "    return(df)  "
   ]
  },
  {
   "cell_type": "code",
   "execution_count": 22,
   "id": "8966b556",
   "metadata": {},
   "outputs": [],
   "source": [
    "def df_kmeans_labels(df_dict, img_dict, data_name, bands, shape1, shape2):\n",
    "    \n",
    "    df = hypercube_to_df_selected_bands(df_dict, data_name, bands)\n",
    "        \n",
    "    # Extract kmeans class image pixel labels\n",
    "    kmeans_gt = img_dict[data_name]\n",
    "        \n",
    "    # Assign classification columns\n",
    "    df['kmeans_class'] = kmeans_gt.ravel()\n",
    "    df['kmeans_class'] = df['kmeans_class'].replace({2 : 3, 1 : 2, 0 : 1})\n",
    "    \n",
    "    return(df)  "
   ]
  },
  {
   "cell_type": "markdown",
   "id": "1e6e230b",
   "metadata": {},
   "source": [
    "### Extract all data and store in a dictionary"
   ]
  },
  {
   "cell_type": "code",
   "execution_count": 23,
   "id": "056f7842",
   "metadata": {},
   "outputs": [],
   "source": [
    "SAM_df = {}\n",
    "kmeans_df = {}\n",
    "\n",
    "for key in data.keys():\n",
    "    temp_df = df_SAM_labels(data, SAM_imgs, key, SAM_selected_bands, shape1 = 1528, shape2 = 2048)\n",
    "    SAM_df[key] = temp_df\n",
    "\n",
    "for key in data.keys():\n",
    "    temp_df = df_kmeans_labels(data, kmeans_data, key, kmeans_selected_bands, shape1 = 1528, shape2 = 2048)\n",
    "    kmeans_df[key] = temp_df"
   ]
  },
  {
   "cell_type": "code",
   "execution_count": 24,
   "id": "649b7ec3",
   "metadata": {},
   "outputs": [
    {
     "name": "stdout",
     "output_type": "stream",
     "text": [
      "dict_keys(['A2', 'D2'])\n",
      "dict_keys(['A2', 'D2'])\n"
     ]
    }
   ],
   "source": [
    "print(SAM_df.keys())\n",
    "print(kmeans_df.keys())"
   ]
  },
  {
   "cell_type": "code",
   "execution_count": 25,
   "id": "6dae4665",
   "metadata": {},
   "outputs": [
    {
     "name": "stdout",
     "output_type": "stream",
     "text": [
      "(3129344, 11)\n",
      "(3129344, 9)\n"
     ]
    }
   ],
   "source": [
    "print(SAM_df['A2'].shape)\n",
    "print(kmeans_df['A2'].shape)"
   ]
  },
  {
   "cell_type": "code",
   "execution_count": 26,
   "id": "1baa6ef8",
   "metadata": {},
   "outputs": [
    {
     "data": {
      "text/html": [
       "<div>\n",
       "<style scoped>\n",
       "    .dataframe tbody tr th:only-of-type {\n",
       "        vertical-align: middle;\n",
       "    }\n",
       "\n",
       "    .dataframe tbody tr th {\n",
       "        vertical-align: top;\n",
       "    }\n",
       "\n",
       "    .dataframe thead th {\n",
       "        text-align: right;\n",
       "    }\n",
       "</style>\n",
       "<table border=\"1\" class=\"dataframe\">\n",
       "  <thead>\n",
       "    <tr style=\"text-align: right;\">\n",
       "      <th></th>\n",
       "      <th>band42</th>\n",
       "      <th>band55</th>\n",
       "      <th>band73</th>\n",
       "      <th>band81</th>\n",
       "      <th>band88</th>\n",
       "      <th>band115</th>\n",
       "      <th>band124</th>\n",
       "      <th>band132</th>\n",
       "      <th>kmeans_class</th>\n",
       "    </tr>\n",
       "  </thead>\n",
       "  <tbody>\n",
       "    <tr>\n",
       "      <th>0</th>\n",
       "      <td>0.033492</td>\n",
       "      <td>0.087656</td>\n",
       "      <td>0.077074</td>\n",
       "      <td>0.092966</td>\n",
       "      <td>0.128166</td>\n",
       "      <td>0.227045</td>\n",
       "      <td>0.224870</td>\n",
       "      <td>0.250716</td>\n",
       "      <td>1</td>\n",
       "    </tr>\n",
       "    <tr>\n",
       "      <th>1</th>\n",
       "      <td>0.054153</td>\n",
       "      <td>0.060844</td>\n",
       "      <td>0.083454</td>\n",
       "      <td>0.097782</td>\n",
       "      <td>0.123083</td>\n",
       "      <td>0.201041</td>\n",
       "      <td>0.216233</td>\n",
       "      <td>0.230534</td>\n",
       "      <td>1</td>\n",
       "    </tr>\n",
       "    <tr>\n",
       "      <th>2</th>\n",
       "      <td>0.041020</td>\n",
       "      <td>0.076842</td>\n",
       "      <td>0.100703</td>\n",
       "      <td>0.111272</td>\n",
       "      <td>0.125670</td>\n",
       "      <td>0.199910</td>\n",
       "      <td>0.214208</td>\n",
       "      <td>0.231386</td>\n",
       "      <td>1</td>\n",
       "    </tr>\n",
       "    <tr>\n",
       "      <th>3</th>\n",
       "      <td>0.057790</td>\n",
       "      <td>0.107527</td>\n",
       "      <td>0.108481</td>\n",
       "      <td>0.121772</td>\n",
       "      <td>0.143984</td>\n",
       "      <td>0.228929</td>\n",
       "      <td>0.251489</td>\n",
       "      <td>0.273091</td>\n",
       "      <td>1</td>\n",
       "    </tr>\n",
       "    <tr>\n",
       "      <th>4</th>\n",
       "      <td>0.047594</td>\n",
       "      <td>0.123179</td>\n",
       "      <td>0.129280</td>\n",
       "      <td>0.140816</td>\n",
       "      <td>0.164473</td>\n",
       "      <td>0.221531</td>\n",
       "      <td>0.250117</td>\n",
       "      <td>0.268699</td>\n",
       "      <td>2</td>\n",
       "    </tr>\n",
       "  </tbody>\n",
       "</table>\n",
       "</div>"
      ],
      "text/plain": [
       "     band42    band55    band73    band81    band88   band115   band124  \\\n",
       "0  0.033492  0.087656  0.077074  0.092966  0.128166  0.227045  0.224870   \n",
       "1  0.054153  0.060844  0.083454  0.097782  0.123083  0.201041  0.216233   \n",
       "2  0.041020  0.076842  0.100703  0.111272  0.125670  0.199910  0.214208   \n",
       "3  0.057790  0.107527  0.108481  0.121772  0.143984  0.228929  0.251489   \n",
       "4  0.047594  0.123179  0.129280  0.140816  0.164473  0.221531  0.250117   \n",
       "\n",
       "    band132  kmeans_class  \n",
       "0  0.250716             1  \n",
       "1  0.230534             1  \n",
       "2  0.231386             1  \n",
       "3  0.273091             1  \n",
       "4  0.268699             2  "
      ]
     },
     "execution_count": 26,
     "metadata": {},
     "output_type": "execute_result"
    }
   ],
   "source": [
    "kmeans_df['A2'].head()"
   ]
  },
  {
   "cell_type": "markdown",
   "id": "03c09e8b",
   "metadata": {},
   "source": [
    "## Model prediction"
   ]
  },
  {
   "cell_type": "code",
   "execution_count": 27,
   "id": "216c5320",
   "metadata": {},
   "outputs": [],
   "source": [
    "def return_rf_prediction(model, data_dict, key, shape1, shape2):\n",
    "    \n",
    "    model_name = \" \".join(re.findall('(.*)\\_model', get_dict_name(model)))\n",
    "    \n",
    "    temp_df = data_dict[key].copy()\n",
    "\n",
    "    df = temp_df.iloc[:, :].values\n",
    "    \n",
    "    # Color map for spectral classes: black = soil, magenta = interface, yellow = root\n",
    "    cmap = colors.ListedColormap(['#000000', '#cc0066', '#ffcc00'])\n",
    "    \n",
    "    ## RF model\n",
    "    rf_result = model.predict(df) \n",
    "    \n",
    "    ## prediction\n",
    "    predicted_rf_data = rf_result.reshape((shape1, shape2)).astype(np.int8)\n",
    "    pred_df = pd.DataFrame(predicted_rf_data)\n",
    "    \n",
    "    fig, ax = plt.subplots()\n",
    "    plt.grid(False)\n",
    "    ax.imshow(predicted_rf_data, cmap = cmap)\n",
    "    plt.axis('off')\n",
    "    \n",
    "    pred_df.to_csv(key + '_' + model_name + '_RF_predicted_img.csv')\n",
    "    plt.savefig(key + '_' + model_name + '_RF_predicted_whole_image.png', dpi = 300, bbox_inches = 'tight')\n",
    "    plt.close()\n",
    "    \n",
    "    print(key + ': Done')"
   ]
  },
  {
   "cell_type": "code",
   "execution_count": 28,
   "id": "1415ed44",
   "metadata": {},
   "outputs": [],
   "source": [
    "class_reports = pd.DataFrame()\n",
    "predicted_imgs = {}\n",
    "\n",
    "\n",
    "def return_rf_accuracy(model, data_dict, key, shape1, shape2):\n",
    "    \n",
    "    global class_reports\n",
    "    global predicted_imgs\n",
    "    \n",
    "    model_name = \" \".join(re.findall('(.*)\\_model', get_dict_name(model)))\n",
    "    \n",
    "    temp_df = data_dict[key].copy()\n",
    "\n",
    "    df = temp_df.iloc[:, :-1].values\n",
    "    labels = temp_df.iloc[:, -1].values.astype('uint8')\n",
    "    SAM_names = ['Unlabelled', 'Soil', 'Interface', 'Root']\n",
    "    names = ['Soil', 'Interface', 'Root']\n",
    "    \n",
    "    cmap = colors.ListedColormap(['#000000', '#cc0066', '#ffcc00'])\n",
    "    \n",
    "    ## RF model\n",
    "    rf_result = model.predict(df)\n",
    "    \n",
    "    \n",
    "    ## prediction\n",
    "    predicted_rf_data = rf_result.reshape((shape1, shape2)).astype(np.int8)\n",
    "    pred_df = pd.DataFrame(predicted_rf_data)\n",
    "    predicted_imgs[key + '_' + model_name] = pred_df\n",
    "    \n",
    "    fig, ax = plt.subplots()\n",
    "    plt.grid(False)\n",
    "    ax.imshow(predicted_rf_data, cmap = cmap)\n",
    "    plt.axis('off')\n",
    "   \n",
    "    pred_df.to_csv(key + '_' + model_name + '_RF_predicted_img.csv')\n",
    "    plt.savefig(key + '_' + model_name + '_RF_predicted_whole_image.png', dpi = 300, bbox_inches = 'tight')\n",
    "    plt.close()\n",
    "   \n",
    "\n",
    "    ## classification\n",
    "    SAM_rf_report = pd.DataFrame(classification_report(labels, rf_result, output_dict = True)).round(2).transpose()\n",
    "    SAM_rf_report['Sample'] =  key\n",
    "    SAM_rf_report['Model'] = model_name\n",
    "       \n",
    "    SAM_rf_report.reset_index(inplace = True)\n",
    "    SAM_rf_report.rename(columns = {'index' : 'Class'}, inplace = True)\n",
    "    SAM_rf_report.set_index(['Model', 'Sample', 'Class'], inplace = True)\n",
    "\n",
    "    class_reports = pd.concat([class_reports, SAM_rf_report])\n",
    "\n",
    "    \n",
    "    ## SAM labels confusion matrix\n",
    "    if model_name == 'SAM':\n",
    "    \n",
    "        SAM_df_cm = pd.DataFrame(confusion_matrix(labels, rf_result), columns = SAM_names, index = SAM_names) \n",
    "        SAM_df_cm.index.name = 'Actual'\n",
    "        SAM_df_cm.columns.name = 'Predicted'\n",
    "        plt.figure(figsize = (10,8))\n",
    "        plt.title('SAM RF Confusion Matrix', fontsize = '20')\n",
    "        sns.set(font_scale=1.4) #for label size\n",
    "        sns.heatmap(SAM_df_cm, cmap = 'copper', annot=True,annot_kws={\"size\": 16}, fmt='d')\n",
    "\n",
    "        plt.savefig(key + '_' + model_name +'_RF_confusion_matrix.png', dpi = 300)\n",
    "        plt.close()\n",
    "    \n",
    "    if model_name == 'kmeans':\n",
    "    \n",
    "        kmeans_df_cm = pd.DataFrame(confusion_matrix(labels, rf_result), columns = names, index = names) \n",
    "        kmeans_df_cm.index.name = 'Actual'\n",
    "        kmeans_df_cm.columns.name = 'Predicted'\n",
    "        plt.figure(figsize = (10,8))\n",
    "        plt.title('KMeans RF Confusion Matrix', fontsize = '20')\n",
    "        sns.set(font_scale=1.4) #for label size\n",
    "        sns.heatmap(kmeans_df_cm, cmap = 'copper', annot=True,annot_kws={\"size\": 16}, fmt='d')\n",
    "\n",
    "        plt.savefig(key + '_' + model_name +'_RF_confusion_matrix.png', dpi = 300)\n",
    "        plt.close()\n",
    "    \n",
    "    print(key + ': Done')\n",
    "#     return(class_reports)"
   ]
  },
  {
   "cell_type": "code",
   "execution_count": 29,
   "id": "9d888056",
   "metadata": {
    "scrolled": true
   },
   "outputs": [
    {
     "name": "stderr",
     "output_type": "stream",
     "text": [
      "[Parallel(n_jobs=1)]: Using backend SequentialBackend with 1 concurrent workers.\n",
      "[Parallel(n_jobs=1)]: Done   1 out of   1 | elapsed:    0.3s remaining:    0.0s\n",
      "[Parallel(n_jobs=1)]: Done   2 out of   2 | elapsed:    0.6s remaining:    0.0s\n",
      "[Parallel(n_jobs=1)]: Done   3 out of   3 | elapsed:    1.0s remaining:    0.0s\n",
      "[Parallel(n_jobs=1)]: Done   4 out of   4 | elapsed:    1.3s remaining:    0.0s\n",
      "[Parallel(n_jobs=1)]: Done  50 out of  50 | elapsed:   17.3s finished\n",
      "C:\\Users\\cfa024\\Anaconda3\\lib\\site-packages\\sklearn\\metrics\\_classification.py:1318: UndefinedMetricWarning: Precision and F-score are ill-defined and being set to 0.0 in labels with no predicted samples. Use `zero_division` parameter to control this behavior.\n",
      "  _warn_prf(average, modifier, msg_start, len(result))\n",
      "C:\\Users\\cfa024\\Anaconda3\\lib\\site-packages\\sklearn\\metrics\\_classification.py:1318: UndefinedMetricWarning: Precision and F-score are ill-defined and being set to 0.0 in labels with no predicted samples. Use `zero_division` parameter to control this behavior.\n",
      "  _warn_prf(average, modifier, msg_start, len(result))\n",
      "C:\\Users\\cfa024\\Anaconda3\\lib\\site-packages\\sklearn\\metrics\\_classification.py:1318: UndefinedMetricWarning: Precision and F-score are ill-defined and being set to 0.0 in labels with no predicted samples. Use `zero_division` parameter to control this behavior.\n",
      "  _warn_prf(average, modifier, msg_start, len(result))\n"
     ]
    },
    {
     "name": "stdout",
     "output_type": "stream",
     "text": [
      "A2: Done\n"
     ]
    },
    {
     "name": "stderr",
     "output_type": "stream",
     "text": [
      "[Parallel(n_jobs=1)]: Using backend SequentialBackend with 1 concurrent workers.\n",
      "[Parallel(n_jobs=1)]: Done   1 out of   1 | elapsed:    0.2s remaining:    0.0s\n",
      "[Parallel(n_jobs=1)]: Done   2 out of   2 | elapsed:    0.4s remaining:    0.0s\n",
      "[Parallel(n_jobs=1)]: Done   3 out of   3 | elapsed:    0.7s remaining:    0.0s\n",
      "[Parallel(n_jobs=1)]: Done   4 out of   4 | elapsed:    0.9s remaining:    0.0s\n",
      "[Parallel(n_jobs=1)]: Done  50 out of  50 | elapsed:   11.7s finished\n",
      "C:\\Users\\cfa024\\Anaconda3\\lib\\site-packages\\sklearn\\metrics\\_classification.py:1318: UndefinedMetricWarning: Precision and F-score are ill-defined and being set to 0.0 in labels with no predicted samples. Use `zero_division` parameter to control this behavior.\n",
      "  _warn_prf(average, modifier, msg_start, len(result))\n",
      "C:\\Users\\cfa024\\Anaconda3\\lib\\site-packages\\sklearn\\metrics\\_classification.py:1318: UndefinedMetricWarning: Precision and F-score are ill-defined and being set to 0.0 in labels with no predicted samples. Use `zero_division` parameter to control this behavior.\n",
      "  _warn_prf(average, modifier, msg_start, len(result))\n",
      "C:\\Users\\cfa024\\Anaconda3\\lib\\site-packages\\sklearn\\metrics\\_classification.py:1318: UndefinedMetricWarning: Precision and F-score are ill-defined and being set to 0.0 in labels with no predicted samples. Use `zero_division` parameter to control this behavior.\n",
      "  _warn_prf(average, modifier, msg_start, len(result))\n"
     ]
    },
    {
     "name": "stdout",
     "output_type": "stream",
     "text": [
      "D2: Done\n"
     ]
    }
   ],
   "source": [
    "for key in list(SAM_df.keys()):\n",
    "    return_rf_accuracy(SAM_model, SAM_df, key, 1528, 2048)"
   ]
  },
  {
   "cell_type": "code",
   "execution_count": 30,
   "id": "5db5e047",
   "metadata": {},
   "outputs": [
    {
     "name": "stderr",
     "output_type": "stream",
     "text": [
      "[Parallel(n_jobs=1)]: Using backend SequentialBackend with 1 concurrent workers.\n",
      "[Parallel(n_jobs=1)]: Done   1 out of   1 | elapsed:    0.4s remaining:    0.0s\n",
      "[Parallel(n_jobs=1)]: Done   2 out of   2 | elapsed:    0.9s remaining:    0.0s\n",
      "[Parallel(n_jobs=1)]: Done   3 out of   3 | elapsed:    1.4s remaining:    0.0s\n",
      "[Parallel(n_jobs=1)]: Done   4 out of   4 | elapsed:    1.9s remaining:    0.0s\n",
      "[Parallel(n_jobs=1)]: Done  50 out of  50 | elapsed:   24.2s finished\n"
     ]
    },
    {
     "name": "stdout",
     "output_type": "stream",
     "text": [
      "A2: Done\n"
     ]
    },
    {
     "name": "stderr",
     "output_type": "stream",
     "text": [
      "[Parallel(n_jobs=1)]: Using backend SequentialBackend with 1 concurrent workers.\n",
      "[Parallel(n_jobs=1)]: Done   1 out of   1 | elapsed:    0.3s remaining:    0.0s\n",
      "[Parallel(n_jobs=1)]: Done   2 out of   2 | elapsed:    0.7s remaining:    0.0s\n",
      "[Parallel(n_jobs=1)]: Done   3 out of   3 | elapsed:    1.1s remaining:    0.0s\n",
      "[Parallel(n_jobs=1)]: Done   4 out of   4 | elapsed:    1.4s remaining:    0.0s\n",
      "[Parallel(n_jobs=1)]: Done  50 out of  50 | elapsed:   18.6s finished\n"
     ]
    },
    {
     "name": "stdout",
     "output_type": "stream",
     "text": [
      "D2: Done\n"
     ]
    }
   ],
   "source": [
    "for key in list(kmeans_df.keys()):\n",
    "    return_rf_accuracy(kmeans_model, kmeans_df, key, 1528, 2048)"
   ]
  },
  {
   "cell_type": "code",
   "execution_count": 31,
   "id": "df36f945",
   "metadata": {},
   "outputs": [],
   "source": [
    "class_reports.to_excel('Class_reports.xlsx')"
   ]
  },
  {
   "cell_type": "markdown",
   "id": "17f4012a",
   "metadata": {},
   "source": [
    "### Add new prediction labels to original dataframe"
   ]
  },
  {
   "cell_type": "code",
   "execution_count": 32,
   "id": "aa820475",
   "metadata": {},
   "outputs": [
    {
     "data": {
      "text/plain": [
       "dict_keys(['A2_SAM', 'D2_SAM', 'A2_kmeans', 'D2_kmeans'])"
      ]
     },
     "execution_count": 32,
     "metadata": {},
     "output_type": "execute_result"
    }
   ],
   "source": [
    "predicted_imgs.keys()"
   ]
  },
  {
   "cell_type": "code",
   "execution_count": 33,
   "id": "b4b998fe",
   "metadata": {},
   "outputs": [],
   "source": [
    "SAM_predicted_imgs = {}\n",
    "kmeans_predicted_imgs = {}\n",
    "\n",
    "for key, item in predicted_imgs.items():\n",
    "    if 'SAM' in key:\n",
    "            name = \" \".join(re.findall('(.*?)\\_SAM', key))\n",
    "            SAM_predicted_imgs[name] = item\n",
    "\n",
    "    if 'kmeans' in key:\n",
    "        name = \" \".join(re.findall('(.*?)\\_kmeans', key))\n",
    "        kmeans_predicted_imgs[name] = item"
   ]
  },
  {
   "cell_type": "code",
   "execution_count": 34,
   "id": "3b2d4870",
   "metadata": {},
   "outputs": [],
   "source": [
    "SAM_labelled_data = {}\n",
    "kmeans_labelled_data = {}\n",
    "\n",
    "for key, item in data.items():\n",
    "    temp_df = hypercube_to_df(data, key)\n",
    "    SAM_df = assign_labels(temp_df, SAM_predicted_imgs[key].values.astype('uint8'))\n",
    "    kmeans_df = assign_labels(temp_df, kmeans_predicted_imgs[key].values.astype('uint8'))\n",
    "    \n",
    "    SAM_labelled_data[key] = SAM_df\n",
    "    kmeans_labelled_data[key] = kmeans_df  "
   ]
  },
  {
   "cell_type": "code",
   "execution_count": 35,
   "id": "d45919d0",
   "metadata": {},
   "outputs": [],
   "source": [
    "SAM_mean_data = {}\n",
    "\n",
    "for key, item in SAM_labelled_data.items():\n",
    "    \n",
    "    temp_df = pd.DataFrame()\n",
    "    \n",
    "    root_spec = item[item['Class'] == 3].mean()\n",
    "    interface_spec = item[item['Class'] == 2].mean()\n",
    "    soil_spec = item[item['Class'] == 1].mean()\n",
    "    \n",
    "    temp_df['Root'] = root_spec[0:150]\n",
    "    temp_df['Interface'] = interface_spec[0:150]\n",
    "    temp_df['Soil'] = soil_spec[0:150]\n",
    "    temp_df = temp_df.T\n",
    "    \n",
    "    SAM_mean_data[key] = temp_df\n",
    "    \n",
    "kmeans_mean_data = {}\n",
    "\n",
    "for key, item in kmeans_labelled_data.items():\n",
    "    \n",
    "    temp_df = pd.DataFrame()\n",
    "    \n",
    "    root_spec = item[item['Class'] == 3].mean()\n",
    "    interface_spec = item[item['Class'] == 2].mean()\n",
    "    soil_spec = item[item['Class'] == 1].mean()\n",
    "    \n",
    "    temp_df['Root'] = root_spec[0:150]\n",
    "    temp_df['Interface'] = interface_spec[0:150]\n",
    "    temp_df['Soil'] = soil_spec[0:150]\n",
    "    temp_df = temp_df.T\n",
    "    \n",
    "    kmeans_mean_data[key] = temp_df"
   ]
  },
  {
   "cell_type": "code",
   "execution_count": 36,
   "id": "9d63d726",
   "metadata": {},
   "outputs": [],
   "source": [
    "SAM_predicted_spectra = pd.DataFrame()\n",
    "\n",
    "for key, item in SAM_mean_data.items():\n",
    "    \n",
    "    temp_df = item.copy()\n",
    "    temp_df['Species'] = key\n",
    "    temp_df.reset_index(inplace = True)\n",
    "    temp_df.rename({'index' : 'Class'},axis = 1, inplace = True)\n",
    "    temp_df.set_index(['Species', 'Class'], inplace = True)\n",
    "    SAM_predicted_spectra = pd.concat([SAM_predicted_spectra, temp_df])\n",
    "\n",
    "SAM_predicted_spectra.reset_index(inplace = True)\n",
    "SAM_predicted_spectra['Class'] = pd.Categorical(SAM_predicted_spectra['Class'], ['Root', 'Interface', 'Soil'])    \n",
    "SAM_predicted_spectra = SAM_predicted_spectra.sort_values(by = 'Class')\n",
    "SAM_predicted_spectra.set_index(['Species', 'Class'], inplace = True)\n",
    "SAM_predicted_spectra.to_excel('SAM_predicted_spectra.xlsx')\n",
    "\n",
    "kmeans_predicted_spectra = pd.DataFrame()\n",
    "\n",
    "for key, item in kmeans_mean_data.items():\n",
    "    \n",
    "    temp_df = item.copy()\n",
    "    temp_df['Species'] = key\n",
    "    temp_df.reset_index(inplace = True)\n",
    "    temp_df.rename({'index' : 'Class'},axis = 1, inplace = True)\n",
    "    temp_df.set_index(['Species', 'Class'], inplace = True)\n",
    "    kmeans_predicted_spectra = pd.concat([kmeans_predicted_spectra, temp_df])\n",
    "\n",
    "kmeans_predicted_spectra.reset_index(inplace = True)\n",
    "kmeans_predicted_spectra['Class'] = pd.Categorical(kmeans_predicted_spectra['Class'], ['Root', 'Interface', 'Soil'])    \n",
    "kmeans_predicted_spectra = kmeans_predicted_spectra.sort_values(by = 'Class')\n",
    "kmeans_predicted_spectra.set_index(['Species', 'Class'], inplace = True)    \n",
    "kmeans_predicted_spectra.to_excel('kmeans_predicted_spectra.xlsx')"
   ]
  },
  {
   "cell_type": "markdown",
   "id": "fe7f36d9",
   "metadata": {},
   "source": [
    "# Plot mean predicted spectra"
   ]
  },
  {
   "cell_type": "markdown",
   "id": "76c3cd4c",
   "metadata": {},
   "source": [
    "#### Add same index labels as in data pre-treatment"
   ]
  },
  {
   "cell_type": "code",
   "execution_count": 37,
   "id": "7e00f9b6",
   "metadata": {
    "scrolled": true
   },
   "outputs": [
    {
     "data": {
      "text/html": [
       "<div>\n",
       "<style scoped>\n",
       "    .dataframe tbody tr th:only-of-type {\n",
       "        vertical-align: middle;\n",
       "    }\n",
       "\n",
       "    .dataframe tbody tr th {\n",
       "        vertical-align: top;\n",
       "    }\n",
       "\n",
       "    .dataframe thead th {\n",
       "        text-align: right;\n",
       "    }\n",
       "</style>\n",
       "<table border=\"1\" class=\"dataframe\">\n",
       "  <thead>\n",
       "    <tr style=\"text-align: right;\">\n",
       "      <th></th>\n",
       "      <th></th>\n",
       "      <th>band1</th>\n",
       "      <th>band2</th>\n",
       "      <th>band3</th>\n",
       "      <th>band4</th>\n",
       "      <th>band5</th>\n",
       "      <th>band6</th>\n",
       "      <th>band7</th>\n",
       "      <th>band8</th>\n",
       "      <th>band9</th>\n",
       "      <th>band10</th>\n",
       "      <th>...</th>\n",
       "      <th>band141</th>\n",
       "      <th>band142</th>\n",
       "      <th>band143</th>\n",
       "      <th>band144</th>\n",
       "      <th>band145</th>\n",
       "      <th>band146</th>\n",
       "      <th>band147</th>\n",
       "      <th>band148</th>\n",
       "      <th>band149</th>\n",
       "      <th>band150</th>\n",
       "    </tr>\n",
       "    <tr>\n",
       "      <th>Species</th>\n",
       "      <th>Class</th>\n",
       "      <th></th>\n",
       "      <th></th>\n",
       "      <th></th>\n",
       "      <th></th>\n",
       "      <th></th>\n",
       "      <th></th>\n",
       "      <th></th>\n",
       "      <th></th>\n",
       "      <th></th>\n",
       "      <th></th>\n",
       "      <th></th>\n",
       "      <th></th>\n",
       "      <th></th>\n",
       "      <th></th>\n",
       "      <th></th>\n",
       "      <th></th>\n",
       "      <th></th>\n",
       "      <th></th>\n",
       "      <th></th>\n",
       "      <th></th>\n",
       "      <th></th>\n",
       "    </tr>\n",
       "  </thead>\n",
       "  <tbody>\n",
       "    <tr>\n",
       "      <th>A2</th>\n",
       "      <th>Root</th>\n",
       "      <td>0.267042</td>\n",
       "      <td>0.267478</td>\n",
       "      <td>0.265286</td>\n",
       "      <td>0.264420</td>\n",
       "      <td>0.265002</td>\n",
       "      <td>0.266461</td>\n",
       "      <td>0.268747</td>\n",
       "      <td>0.268678</td>\n",
       "      <td>0.268895</td>\n",
       "      <td>0.269637</td>\n",
       "      <td>...</td>\n",
       "      <td>0.405047</td>\n",
       "      <td>0.405613</td>\n",
       "      <td>0.406099</td>\n",
       "      <td>0.406387</td>\n",
       "      <td>0.406400</td>\n",
       "      <td>0.406297</td>\n",
       "      <td>0.406026</td>\n",
       "      <td>0.405943</td>\n",
       "      <td>0.406014</td>\n",
       "      <td>0.406014</td>\n",
       "    </tr>\n",
       "    <tr>\n",
       "      <th>D2</th>\n",
       "      <th>Root</th>\n",
       "      <td>0.222849</td>\n",
       "      <td>0.223169</td>\n",
       "      <td>0.221266</td>\n",
       "      <td>0.220613</td>\n",
       "      <td>0.221478</td>\n",
       "      <td>0.223185</td>\n",
       "      <td>0.224366</td>\n",
       "      <td>0.222923</td>\n",
       "      <td>0.222407</td>\n",
       "      <td>0.223131</td>\n",
       "      <td>...</td>\n",
       "      <td>0.314308</td>\n",
       "      <td>0.314872</td>\n",
       "      <td>0.315292</td>\n",
       "      <td>0.315540</td>\n",
       "      <td>0.315741</td>\n",
       "      <td>0.315818</td>\n",
       "      <td>0.315752</td>\n",
       "      <td>0.316040</td>\n",
       "      <td>0.316299</td>\n",
       "      <td>0.316299</td>\n",
       "    </tr>\n",
       "    <tr>\n",
       "      <th>A2</th>\n",
       "      <th>Interface</th>\n",
       "      <td>0.112503</td>\n",
       "      <td>0.112849</td>\n",
       "      <td>0.111069</td>\n",
       "      <td>0.109551</td>\n",
       "      <td>0.108610</td>\n",
       "      <td>0.108840</td>\n",
       "      <td>0.110633</td>\n",
       "      <td>0.109777</td>\n",
       "      <td>0.108776</td>\n",
       "      <td>0.107473</td>\n",
       "      <td>...</td>\n",
       "      <td>0.232269</td>\n",
       "      <td>0.233701</td>\n",
       "      <td>0.235143</td>\n",
       "      <td>0.236572</td>\n",
       "      <td>0.237813</td>\n",
       "      <td>0.239063</td>\n",
       "      <td>0.240176</td>\n",
       "      <td>0.241435</td>\n",
       "      <td>0.242030</td>\n",
       "      <td>0.242030</td>\n",
       "    </tr>\n",
       "    <tr>\n",
       "      <th>D2</th>\n",
       "      <th>Interface</th>\n",
       "      <td>0.066202</td>\n",
       "      <td>0.066679</td>\n",
       "      <td>0.065262</td>\n",
       "      <td>0.064060</td>\n",
       "      <td>0.063547</td>\n",
       "      <td>0.064377</td>\n",
       "      <td>0.065987</td>\n",
       "      <td>0.065048</td>\n",
       "      <td>0.064060</td>\n",
       "      <td>0.062820</td>\n",
       "      <td>...</td>\n",
       "      <td>0.141331</td>\n",
       "      <td>0.142726</td>\n",
       "      <td>0.144196</td>\n",
       "      <td>0.145667</td>\n",
       "      <td>0.147052</td>\n",
       "      <td>0.148416</td>\n",
       "      <td>0.149569</td>\n",
       "      <td>0.150908</td>\n",
       "      <td>0.151521</td>\n",
       "      <td>0.151521</td>\n",
       "    </tr>\n",
       "    <tr>\n",
       "      <th>A2</th>\n",
       "      <th>Soil</th>\n",
       "      <td>0.056284</td>\n",
       "      <td>0.056015</td>\n",
       "      <td>0.053952</td>\n",
       "      <td>0.052067</td>\n",
       "      <td>0.050706</td>\n",
       "      <td>0.050742</td>\n",
       "      <td>0.052139</td>\n",
       "      <td>0.050364</td>\n",
       "      <td>0.048643</td>\n",
       "      <td>0.046665</td>\n",
       "      <td>...</td>\n",
       "      <td>0.175302</td>\n",
       "      <td>0.177314</td>\n",
       "      <td>0.179441</td>\n",
       "      <td>0.181660</td>\n",
       "      <td>0.183629</td>\n",
       "      <td>0.185672</td>\n",
       "      <td>0.187544</td>\n",
       "      <td>0.189564</td>\n",
       "      <td>0.190465</td>\n",
       "      <td>0.190465</td>\n",
       "    </tr>\n",
       "    <tr>\n",
       "      <th>D2</th>\n",
       "      <th>Soil</th>\n",
       "      <td>0.040287</td>\n",
       "      <td>0.040458</td>\n",
       "      <td>0.038921</td>\n",
       "      <td>0.037522</td>\n",
       "      <td>0.036841</td>\n",
       "      <td>0.037710</td>\n",
       "      <td>0.039164</td>\n",
       "      <td>0.037736</td>\n",
       "      <td>0.036348</td>\n",
       "      <td>0.034729</td>\n",
       "      <td>...</td>\n",
       "      <td>0.125654</td>\n",
       "      <td>0.127458</td>\n",
       "      <td>0.129360</td>\n",
       "      <td>0.131299</td>\n",
       "      <td>0.133109</td>\n",
       "      <td>0.134928</td>\n",
       "      <td>0.136512</td>\n",
       "      <td>0.138306</td>\n",
       "      <td>0.139139</td>\n",
       "      <td>0.139139</td>\n",
       "    </tr>\n",
       "  </tbody>\n",
       "</table>\n",
       "<p>6 rows × 150 columns</p>\n",
       "</div>"
      ],
      "text/plain": [
       "                      band1     band2     band3     band4     band5     band6  \\\n",
       "Species Class                                                                   \n",
       "A2      Root       0.267042  0.267478  0.265286  0.264420  0.265002  0.266461   \n",
       "D2      Root       0.222849  0.223169  0.221266  0.220613  0.221478  0.223185   \n",
       "A2      Interface  0.112503  0.112849  0.111069  0.109551  0.108610  0.108840   \n",
       "D2      Interface  0.066202  0.066679  0.065262  0.064060  0.063547  0.064377   \n",
       "A2      Soil       0.056284  0.056015  0.053952  0.052067  0.050706  0.050742   \n",
       "D2      Soil       0.040287  0.040458  0.038921  0.037522  0.036841  0.037710   \n",
       "\n",
       "                      band7     band8     band9    band10  ...   band141  \\\n",
       "Species Class                                              ...             \n",
       "A2      Root       0.268747  0.268678  0.268895  0.269637  ...  0.405047   \n",
       "D2      Root       0.224366  0.222923  0.222407  0.223131  ...  0.314308   \n",
       "A2      Interface  0.110633  0.109777  0.108776  0.107473  ...  0.232269   \n",
       "D2      Interface  0.065987  0.065048  0.064060  0.062820  ...  0.141331   \n",
       "A2      Soil       0.052139  0.050364  0.048643  0.046665  ...  0.175302   \n",
       "D2      Soil       0.039164  0.037736  0.036348  0.034729  ...  0.125654   \n",
       "\n",
       "                    band142   band143   band144   band145   band146   band147  \\\n",
       "Species Class                                                                   \n",
       "A2      Root       0.405613  0.406099  0.406387  0.406400  0.406297  0.406026   \n",
       "D2      Root       0.314872  0.315292  0.315540  0.315741  0.315818  0.315752   \n",
       "A2      Interface  0.233701  0.235143  0.236572  0.237813  0.239063  0.240176   \n",
       "D2      Interface  0.142726  0.144196  0.145667  0.147052  0.148416  0.149569   \n",
       "A2      Soil       0.177314  0.179441  0.181660  0.183629  0.185672  0.187544   \n",
       "D2      Soil       0.127458  0.129360  0.131299  0.133109  0.134928  0.136512   \n",
       "\n",
       "                    band148   band149   band150  \n",
       "Species Class                                    \n",
       "A2      Root       0.405943  0.406014  0.406014  \n",
       "D2      Root       0.316040  0.316299  0.316299  \n",
       "A2      Interface  0.241435  0.242030  0.242030  \n",
       "D2      Interface  0.150908  0.151521  0.151521  \n",
       "A2      Soil       0.189564  0.190465  0.190465  \n",
       "D2      Soil       0.138306  0.139139  0.139139  \n",
       "\n",
       "[6 rows x 150 columns]"
      ]
     },
     "execution_count": 37,
     "metadata": {},
     "output_type": "execute_result"
    }
   ],
   "source": [
    "SAM_predicted_spectra"
   ]
  },
  {
   "cell_type": "code",
   "execution_count": 38,
   "id": "dece777b",
   "metadata": {},
   "outputs": [
    {
     "data": {
      "image/png": "[encoded data removed]",
      "text/plain": [
       "<Figure size 1200x480 with 2 Axes>"
      ]
     },
     "metadata": {},
     "output_type": "display_data"
    }
   ],
   "source": [
    "fig, ax = plt.subplots(1, 2, figsize = (15, 6))\n",
    "fig.tight_layout(pad = 3.0) \n",
    "\n",
    "ax[0].plot(wl, SAM_predicted_spectra.values.T)\n",
    "\n",
    "ax[0].set_title('SAM model predicted spectra', fontsize = '20')\n",
    "ax[0].set_ylabel('Reflectance')\n",
    "ax[0].set_xlabel('Wavelength (nm)')\n",
    "\n",
    "ax[1].plot(wl, kmeans_predicted_spectra.values.T)\n",
    "\n",
    "ax[1].set_title('KMeans model predicted spectra', fontsize = '20')\n",
    "ax[1].set_ylabel('Reflectance')\n",
    "ax[1].set_xlabel('Wavelength (nm)')\n",
    "\n",
    "legend_handles = SAM_predicted_spectra.reset_index()[['Species', 'Class']].astype(str).apply(', '.join, axis=1).tolist()\n",
    "plt.legend(legend_handles, title = 'Species, Class', loc = 'center right', bbox_to_anchor = (1.4, 0.5))\n",
    "\n",
    "plt.savefig('Predicted_spectra.png', dpi = 300, bbox_inches = 'tight')\n",
    "plt.show()"
   ]
  },
  {
   "cell_type": "markdown",
   "id": "d71c909f",
   "metadata": {},
   "source": [
    "### Run PLS-DA for correlation"
   ]
  },
  {
   "cell_type": "markdown",
   "id": "f529c031",
   "metadata": {},
   "source": [
    "#### Add model column"
   ]
  },
  {
   "cell_type": "code",
   "execution_count": 39,
   "id": "2b74176e",
   "metadata": {},
   "outputs": [],
   "source": [
    "class_label_dict = {\n",
    "    'Soil' : '1',\n",
    "    'Interface' : '2', \n",
    "    'Root' : '3'\n",
    "}\n",
    "\n",
    "species_label_dict = {\n",
    "    'A2' : '1', \n",
    "    'D2' : '2'\n",
    "}"
   ]
  },
  {
   "cell_type": "code",
   "execution_count": 40,
   "id": "5fed2251",
   "metadata": {},
   "outputs": [],
   "source": [
    "SAM_predicted_spectra.reset_index(inplace = True)\n",
    "SAM_predicted_spectra['Model'] = '1'\n",
    "SAM_predicted_spectra['Class_label'] = SAM_predicted_spectra['Class'].map(class_label_dict)\n",
    "SAM_predicted_spectra['Species_label'] = SAM_predicted_spectra['Species'].map(species_label_dict)\n",
    "SAM_predicted_spectra.set_index(['Model', 'Class', 'Species', 'Class_label', 'Species_label'], inplace = True)"
   ]
  },
  {
   "cell_type": "code",
   "execution_count": 41,
   "id": "e15d957f",
   "metadata": {},
   "outputs": [],
   "source": [
    "kmeans_predicted_spectra.reset_index(inplace = True)\n",
    "kmeans_predicted_spectra['Model'] = '2'\n",
    "kmeans_predicted_spectra['Class_label'] = kmeans_predicted_spectra['Class'].map(class_label_dict)\n",
    "kmeans_predicted_spectra['Species_label'] = kmeans_predicted_spectra['Species'].map(species_label_dict)\n",
    "kmeans_predicted_spectra.set_index(['Model', 'Class', 'Species', 'Class_label', 'Species_label'], inplace = True)"
   ]
  },
  {
   "cell_type": "code",
   "execution_count": 42,
   "id": "4184e71b",
   "metadata": {},
   "outputs": [],
   "source": [
    "all_predicted_spectra = pd.concat([SAM_predicted_spectra, kmeans_predicted_spectra])"
   ]
  },
  {
   "cell_type": "code",
   "execution_count": 43,
   "id": "a896c477",
   "metadata": {},
   "outputs": [
    {
     "data": {
      "text/html": [
       "<div>\n",
       "<style scoped>\n",
       "    .dataframe tbody tr th:only-of-type {\n",
       "        vertical-align: middle;\n",
       "    }\n",
       "\n",
       "    .dataframe tbody tr th {\n",
       "        vertical-align: top;\n",
       "    }\n",
       "\n",
       "    .dataframe thead th {\n",
       "        text-align: right;\n",
       "    }\n",
       "</style>\n",
       "<table border=\"1\" class=\"dataframe\">\n",
       "  <thead>\n",
       "    <tr style=\"text-align: right;\">\n",
       "      <th></th>\n",
       "      <th></th>\n",
       "      <th></th>\n",
       "      <th></th>\n",
       "      <th></th>\n",
       "      <th>band1</th>\n",
       "      <th>band2</th>\n",
       "      <th>band3</th>\n",
       "      <th>band4</th>\n",
       "      <th>band5</th>\n",
       "      <th>band6</th>\n",
       "      <th>band7</th>\n",
       "      <th>band8</th>\n",
       "      <th>band9</th>\n",
       "      <th>band10</th>\n",
       "      <th>...</th>\n",
       "      <th>band141</th>\n",
       "      <th>band142</th>\n",
       "      <th>band143</th>\n",
       "      <th>band144</th>\n",
       "      <th>band145</th>\n",
       "      <th>band146</th>\n",
       "      <th>band147</th>\n",
       "      <th>band148</th>\n",
       "      <th>band149</th>\n",
       "      <th>band150</th>\n",
       "    </tr>\n",
       "    <tr>\n",
       "      <th>Model</th>\n",
       "      <th>Class</th>\n",
       "      <th>Species</th>\n",
       "      <th>Class_label</th>\n",
       "      <th>Species_label</th>\n",
       "      <th></th>\n",
       "      <th></th>\n",
       "      <th></th>\n",
       "      <th></th>\n",
       "      <th></th>\n",
       "      <th></th>\n",
       "      <th></th>\n",
       "      <th></th>\n",
       "      <th></th>\n",
       "      <th></th>\n",
       "      <th></th>\n",
       "      <th></th>\n",
       "      <th></th>\n",
       "      <th></th>\n",
       "      <th></th>\n",
       "      <th></th>\n",
       "      <th></th>\n",
       "      <th></th>\n",
       "      <th></th>\n",
       "      <th></th>\n",
       "      <th></th>\n",
       "    </tr>\n",
       "  </thead>\n",
       "  <tbody>\n",
       "    <tr>\n",
       "      <th rowspan=\"5\" valign=\"top\">1</th>\n",
       "      <th rowspan=\"2\" valign=\"top\">Root</th>\n",
       "      <th>A2</th>\n",
       "      <th>3</th>\n",
       "      <th>1</th>\n",
       "      <td>0.267042</td>\n",
       "      <td>0.267478</td>\n",
       "      <td>0.265286</td>\n",
       "      <td>0.264420</td>\n",
       "      <td>0.265002</td>\n",
       "      <td>0.266461</td>\n",
       "      <td>0.268747</td>\n",
       "      <td>0.268678</td>\n",
       "      <td>0.268895</td>\n",
       "      <td>0.269637</td>\n",
       "      <td>...</td>\n",
       "      <td>0.405047</td>\n",
       "      <td>0.405613</td>\n",
       "      <td>0.406099</td>\n",
       "      <td>0.406387</td>\n",
       "      <td>0.406400</td>\n",
       "      <td>0.406297</td>\n",
       "      <td>0.406026</td>\n",
       "      <td>0.405943</td>\n",
       "      <td>0.406014</td>\n",
       "      <td>0.406014</td>\n",
       "    </tr>\n",
       "    <tr>\n",
       "      <th>D2</th>\n",
       "      <th>3</th>\n",
       "      <th>2</th>\n",
       "      <td>0.222849</td>\n",
       "      <td>0.223169</td>\n",
       "      <td>0.221266</td>\n",
       "      <td>0.220613</td>\n",
       "      <td>0.221478</td>\n",
       "      <td>0.223185</td>\n",
       "      <td>0.224366</td>\n",
       "      <td>0.222923</td>\n",
       "      <td>0.222407</td>\n",
       "      <td>0.223131</td>\n",
       "      <td>...</td>\n",
       "      <td>0.314308</td>\n",
       "      <td>0.314872</td>\n",
       "      <td>0.315292</td>\n",
       "      <td>0.315540</td>\n",
       "      <td>0.315741</td>\n",
       "      <td>0.315818</td>\n",
       "      <td>0.315752</td>\n",
       "      <td>0.316040</td>\n",
       "      <td>0.316299</td>\n",
       "      <td>0.316299</td>\n",
       "    </tr>\n",
       "    <tr>\n",
       "      <th rowspan=\"2\" valign=\"top\">Interface</th>\n",
       "      <th>A2</th>\n",
       "      <th>2</th>\n",
       "      <th>1</th>\n",
       "      <td>0.112503</td>\n",
       "      <td>0.112849</td>\n",
       "      <td>0.111069</td>\n",
       "      <td>0.109551</td>\n",
       "      <td>0.108610</td>\n",
       "      <td>0.108840</td>\n",
       "      <td>0.110633</td>\n",
       "      <td>0.109777</td>\n",
       "      <td>0.108776</td>\n",
       "      <td>0.107473</td>\n",
       "      <td>...</td>\n",
       "      <td>0.232269</td>\n",
       "      <td>0.233701</td>\n",
       "      <td>0.235143</td>\n",
       "      <td>0.236572</td>\n",
       "      <td>0.237813</td>\n",
       "      <td>0.239063</td>\n",
       "      <td>0.240176</td>\n",
       "      <td>0.241435</td>\n",
       "      <td>0.242030</td>\n",
       "      <td>0.242030</td>\n",
       "    </tr>\n",
       "    <tr>\n",
       "      <th>D2</th>\n",
       "      <th>2</th>\n",
       "      <th>2</th>\n",
       "      <td>0.066202</td>\n",
       "      <td>0.066679</td>\n",
       "      <td>0.065262</td>\n",
       "      <td>0.064060</td>\n",
       "      <td>0.063547</td>\n",
       "      <td>0.064377</td>\n",
       "      <td>0.065987</td>\n",
       "      <td>0.065048</td>\n",
       "      <td>0.064060</td>\n",
       "      <td>0.062820</td>\n",
       "      <td>...</td>\n",
       "      <td>0.141331</td>\n",
       "      <td>0.142726</td>\n",
       "      <td>0.144196</td>\n",
       "      <td>0.145667</td>\n",
       "      <td>0.147052</td>\n",
       "      <td>0.148416</td>\n",
       "      <td>0.149569</td>\n",
       "      <td>0.150908</td>\n",
       "      <td>0.151521</td>\n",
       "      <td>0.151521</td>\n",
       "    </tr>\n",
       "    <tr>\n",
       "      <th>Soil</th>\n",
       "      <th>A2</th>\n",
       "      <th>1</th>\n",
       "      <th>1</th>\n",
       "      <td>0.056284</td>\n",
       "      <td>0.056015</td>\n",
       "      <td>0.053952</td>\n",
       "      <td>0.052067</td>\n",
       "      <td>0.050706</td>\n",
       "      <td>0.050742</td>\n",
       "      <td>0.052139</td>\n",
       "      <td>0.050364</td>\n",
       "      <td>0.048643</td>\n",
       "      <td>0.046665</td>\n",
       "      <td>...</td>\n",
       "      <td>0.175302</td>\n",
       "      <td>0.177314</td>\n",
       "      <td>0.179441</td>\n",
       "      <td>0.181660</td>\n",
       "      <td>0.183629</td>\n",
       "      <td>0.185672</td>\n",
       "      <td>0.187544</td>\n",
       "      <td>0.189564</td>\n",
       "      <td>0.190465</td>\n",
       "      <td>0.190465</td>\n",
       "    </tr>\n",
       "  </tbody>\n",
       "</table>\n",
       "<p>5 rows × 150 columns</p>\n",
       "</div>"
      ],
      "text/plain": [
       "                                                      band1     band2  \\\n",
       "Model Class     Species Class_label Species_label                       \n",
       "1     Root      A2      3           1              0.267042  0.267478   \n",
       "                D2      3           2              0.222849  0.223169   \n",
       "      Interface A2      2           1              0.112503  0.112849   \n",
       "                D2      2           2              0.066202  0.066679   \n",
       "      Soil      A2      1           1              0.056284  0.056015   \n",
       "\n",
       "                                                      band3     band4  \\\n",
       "Model Class     Species Class_label Species_label                       \n",
       "1     Root      A2      3           1              0.265286  0.264420   \n",
       "                D2      3           2              0.221266  0.220613   \n",
       "      Interface A2      2           1              0.111069  0.109551   \n",
       "                D2      2           2              0.065262  0.064060   \n",
       "      Soil      A2      1           1              0.053952  0.052067   \n",
       "\n",
       "                                                      band5     band6  \\\n",
       "Model Class     Species Class_label Species_label                       \n",
       "1     Root      A2      3           1              0.265002  0.266461   \n",
       "                D2      3           2              0.221478  0.223185   \n",
       "      Interface A2      2           1              0.108610  0.108840   \n",
       "                D2      2           2              0.063547  0.064377   \n",
       "      Soil      A2      1           1              0.050706  0.050742   \n",
       "\n",
       "                                                      band7     band8  \\\n",
       "Model Class     Species Class_label Species_label                       \n",
       "1     Root      A2      3           1              0.268747  0.268678   \n",
       "                D2      3           2              0.224366  0.222923   \n",
       "      Interface A2      2           1              0.110633  0.109777   \n",
       "                D2      2           2              0.065987  0.065048   \n",
       "      Soil      A2      1           1              0.052139  0.050364   \n",
       "\n",
       "                                                      band9    band10  ...  \\\n",
       "Model Class     Species Class_label Species_label                      ...   \n",
       "1     Root      A2      3           1              0.268895  0.269637  ...   \n",
       "                D2      3           2              0.222407  0.223131  ...   \n",
       "      Interface A2      2           1              0.108776  0.107473  ...   \n",
       "                D2      2           2              0.064060  0.062820  ...   \n",
       "      Soil      A2      1           1              0.048643  0.046665  ...   \n",
       "\n",
       "                                                    band141   band142  \\\n",
       "Model Class     Species Class_label Species_label                       \n",
       "1     Root      A2      3           1              0.405047  0.405613   \n",
       "                D2      3           2              0.314308  0.314872   \n",
       "      Interface A2      2           1              0.232269  0.233701   \n",
       "                D2      2           2              0.141331  0.142726   \n",
       "      Soil      A2      1           1              0.175302  0.177314   \n",
       "\n",
       "                                                    band143   band144  \\\n",
       "Model Class     Species Class_label Species_label                       \n",
       "1     Root      A2      3           1              0.406099  0.406387   \n",
       "                D2      3           2              0.315292  0.315540   \n",
       "      Interface A2      2           1              0.235143  0.236572   \n",
       "                D2      2           2              0.144196  0.145667   \n",
       "      Soil      A2      1           1              0.179441  0.181660   \n",
       "\n",
       "                                                    band145   band146  \\\n",
       "Model Class     Species Class_label Species_label                       \n",
       "1     Root      A2      3           1              0.406400  0.406297   \n",
       "                D2      3           2              0.315741  0.315818   \n",
       "      Interface A2      2           1              0.237813  0.239063   \n",
       "                D2      2           2              0.147052  0.148416   \n",
       "      Soil      A2      1           1              0.183629  0.185672   \n",
       "\n",
       "                                                    band147   band148  \\\n",
       "Model Class     Species Class_label Species_label                       \n",
       "1     Root      A2      3           1              0.406026  0.405943   \n",
       "                D2      3           2              0.315752  0.316040   \n",
       "      Interface A2      2           1              0.240176  0.241435   \n",
       "                D2      2           2              0.149569  0.150908   \n",
       "      Soil      A2      1           1              0.187544  0.189564   \n",
       "\n",
       "                                                    band149   band150  \n",
       "Model Class     Species Class_label Species_label                      \n",
       "1     Root      A2      3           1              0.406014  0.406014  \n",
       "                D2      3           2              0.316299  0.316299  \n",
       "      Interface A2      2           1              0.242030  0.242030  \n",
       "                D2      2           2              0.151521  0.151521  \n",
       "      Soil      A2      1           1              0.190465  0.190465  \n",
       "\n",
       "[5 rows x 150 columns]"
      ]
     },
     "execution_count": 43,
     "metadata": {},
     "output_type": "execute_result"
    }
   ],
   "source": [
    "all_predicted_spectra.head()"
   ]
  },
  {
   "cell_type": "code",
   "execution_count": 44,
   "id": "db333a7a",
   "metadata": {},
   "outputs": [
    {
     "data": {
      "image/png": "[encoded data removed]",
      "text/plain": [
       "<Figure size 800x640 with 1 Axes>"
      ]
     },
     "metadata": {},
     "output_type": "display_data"
    }
   ],
   "source": [
    "model_labels = all_predicted_spectra.index.get_level_values(0).astype('uint8')\n",
    "\n",
    "pls_binary = PLSRegression(n_components = 2)\n",
    "model_pls = pls_binary.fit_transform(all_predicted_spectra.values, model_labels)[0]\n",
    "\n",
    "labels = ['SAM', 'KMeans']\n",
    "\n",
    "# Scatter plot\n",
    "unique = list(set(model_labels))\n",
    "colors = [plt.cm.jet(float(i)/max(unique)) for i in unique]\n",
    " \n",
    "with plt.style.context(('ggplot')):\n",
    "    plt.figure(figsize=(10,8))\n",
    "    for i, u in enumerate(unique):\n",
    "        col = np.expand_dims(np.array(colors[i]), axis=0)\n",
    "        xi = [model_pls[j,0] for j in range(len(model_pls[:,0])) if model_labels[j] == u]\n",
    "        yi = [model_pls[j,1] for j in range(len(model_pls[:,1])) if model_labels[j] == u]\n",
    "        plt.scatter(xi, yi, c=col, s=100, edgecolors='k',label=str(u))\n",
    " \n",
    "    plt.xlabel('Latent Variable 1')\n",
    "    plt.ylabel('Latent Variable 2')\n",
    "    plt.legend(labels, loc = 'center right', title = 'Model', scatterpoints = 1, bbox_to_anchor=(1.25, 0.5))\n",
    "    plt.title('PLS cross-decomposition - acquisition parameter')\n",
    "    plt.axhline(0, color = 'k')\n",
    "    plt.axvline(0, color = 'k')\n",
    "    plt.savefig('pls-da_bymodel.png', dpi=300, bbox_inches='tight')\n",
    "    plt.show()"
   ]
  },
  {
   "cell_type": "code",
   "execution_count": 45,
   "id": "7e035ca8",
   "metadata": {},
   "outputs": [
    {
     "data": {
      "image/png": "[encoded data removed]",
      "text/plain": [
       "<Figure size 800x640 with 1 Axes>"
      ]
     },
     "metadata": {},
     "output_type": "display_data"
    }
   ],
   "source": [
    "class_labels = all_predicted_spectra.index.get_level_values(3).astype('uint8')\n",
    "\n",
    "pls_binary = PLSRegression(n_components = 2)\n",
    "class_pls = pls_binary.fit_transform(all_predicted_spectra.values, class_labels)[0]\n",
    "\n",
    "labels = ['Soil', 'Interface', 'Root']\n",
    "\n",
    "# Scatter plot\n",
    "unique = list(set(class_labels))\n",
    "colors = [plt.cm.jet(float(i)/max(unique)) for i in unique]\n",
    " \n",
    "with plt.style.context(('ggplot')):\n",
    "    plt.figure(figsize=(10,8))\n",
    "    for i, u in enumerate(unique):\n",
    "        col = np.expand_dims(np.array(colors[i]), axis=0)\n",
    "        xi = [class_pls[j,0] for j in range(len(class_pls[:,0])) if class_labels[j] == u]\n",
    "        yi = [class_pls[j,1] for j in range(len(class_pls[:,1])) if class_labels[j] == u]\n",
    "        plt.scatter(xi, yi, c=col, s=100, edgecolors='k',label=str(u))\n",
    " \n",
    "    plt.xlabel('Latent Variable 1')\n",
    "    plt.ylabel('Latent Variable 2')\n",
    "    plt.legend(labels, loc = 'center right', title = 'Class', scatterpoints = 1, bbox_to_anchor=(1.25, 0.5))\n",
    "    plt.title('PLS cross-decomposition - acquisition parameter')\n",
    "    plt.axhline(0, color = 'k')\n",
    "    plt.axvline(0, color = 'k')\n",
    "    plt.savefig('pls-da_byclass.png', dpi=300, bbox_inches='tight')\n",
    "    plt.show()"
   ]
  },
  {
   "cell_type": "code",
   "execution_count": 46,
   "id": "bd507631",
   "metadata": {},
   "outputs": [
    {
     "data": {
      "image/png": "[encoded data removed]",
      "text/plain": [
       "<Figure size 800x640 with 1 Axes>"
      ]
     },
     "metadata": {},
     "output_type": "display_data"
    }
   ],
   "source": [
    "species_labels = all_predicted_spectra.index.get_level_values(4).astype('uint8')\n",
    "\n",
    "pls_binary = PLSRegression(n_components = 2)\n",
    "species_pls = pls_binary.fit_transform(all_predicted_spectra.values, species_labels)[0]\n",
    "\n",
    "labels = ['A. odoratum', 'D. flexuosa']\n",
    "\n",
    "# Scatter plot\n",
    "unique = list(set(species_labels))\n",
    "colors = [plt.cm.jet(float(i)/max(unique)) for i in unique]\n",
    " \n",
    "with plt.style.context(('ggplot')):\n",
    "    plt.figure(figsize=(10,8))\n",
    "    for i, u in enumerate(unique):\n",
    "        col = np.expand_dims(np.array(colors[i]), axis=0)\n",
    "        xi = [species_pls[j,0] for j in range(len(species_pls[:,0])) if species_labels[j] == u]\n",
    "        yi = [species_pls[j,1] for j in range(len(species_pls[:,1])) if species_labels[j] == u]\n",
    "        plt.scatter(xi, yi, c=col, s=100, edgecolors='k',label=str(u))\n",
    " \n",
    "    plt.xlabel('Latent Variable 1')\n",
    "    plt.ylabel('Latent Variable 2')\n",
    "    plt.legend(labels, loc = 'center right', title = 'Species', scatterpoints = 1, bbox_to_anchor=(1.25, 0.5))\n",
    "    plt.title('PLS cross-decomposition - acquisition parameter')\n",
    "    plt.axhline(0, color = 'k')\n",
    "    plt.axvline(0, color = 'k')\n",
    "    plt.savefig('pls-da_byspecies.png', dpi=300, bbox_inches='tight')\n",
    "    plt.show()"
   ]
  },
  {
   "cell_type": "code",
   "execution_count": null,
   "id": "887784b3",
   "metadata": {},
   "outputs": [],
   "source": []
  }
 ],
 "metadata": {
  "kernelspec": {
   "display_name": "Python 3 (ipykernel)",
   "language": "python",
   "name": "python3"
  },
  "language_info": {
   "codemirror_mode": {
    "name": "ipython",
    "version": 3
   },
   "file_extension": ".py",
   "mimetype": "text/x-python",
   "name": "python",
   "nbconvert_exporter": "python",
   "pygments_lexer": "ipython3",
   "version": "3.9.12"
  }
 },
 "nbformat": 4,
 "nbformat_minor": 5
}
